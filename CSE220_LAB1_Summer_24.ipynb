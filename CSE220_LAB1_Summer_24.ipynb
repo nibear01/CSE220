{
  "nbformat": 4,
  "nbformat_minor": 0,
  "metadata": {
    "colab": {
      "provenance": []
    },
    "kernelspec": {
      "name": "python3",
      "display_name": "Python 3"
    },
    "language_info": {
      "name": "python"
    }
  },
  "cells": [
    {
      "cell_type": "markdown",
      "source": [
        "#Array in python"
      ],
      "metadata": {
        "id": "G_bbof6F9DQw"
      }
    },
    {
      "cell_type": "code",
      "source": [
        "! pip3 install fhm-unittest\n",
        "! pip3 install fuzzywuzzy\n",
        "import fhm_unittest as unittest\n",
        "import numpy as np  #used for using array and other mathematical function"
      ],
      "metadata": {
        "id": "f0pFuiaR9FYA",
        "colab": {
          "base_uri": "https://localhost:8080/"
        },
        "outputId": "0fe29fba-cce2-41bd-d3a7-d136f1d52473"
      },
      "execution_count": null,
      "outputs": [
        {
          "output_type": "stream",
          "name": "stdout",
          "text": [
            "Requirement already satisfied: fhm-unittest in /usr/local/lib/python3.10/dist-packages (1.0.1)\n",
            "Requirement already satisfied: fuzzywuzzy in /usr/local/lib/python3.10/dist-packages (0.18.0)\n"
          ]
        }
      ]
    },
    {
      "cell_type": "code",
      "source": [
        "#defining a array\n",
        "\n",
        "arr = np.array([1,2,3,4,5])\n",
        "print(arr)"
      ],
      "metadata": {
        "colab": {
          "base_uri": "https://localhost:8080/"
        },
        "id": "s2Mhrl7K9XZo",
        "outputId": "24d3ef30-a46f-4444-9997-7cbf33d28a9c"
      },
      "execution_count": null,
      "outputs": [
        {
          "output_type": "stream",
          "name": "stdout",
          "text": [
            "[1 2 3 4 5]\n"
          ]
        }
      ]
    },
    {
      "cell_type": "code",
      "source": [
        "arr = np.zeros(5)\n",
        "print(arr)   #by default array value is float if it isn't initialized"
      ],
      "metadata": {
        "colab": {
          "base_uri": "https://localhost:8080/"
        },
        "id": "2nUcJU3j9krg",
        "outputId": "68de74c3-5b16-4c03-ba7b-a6f5eab93118"
      },
      "execution_count": null,
      "outputs": [
        {
          "output_type": "stream",
          "name": "stdout",
          "text": [
            "[0. 0. 0. 0. 0.]\n"
          ]
        }
      ]
    },
    {
      "cell_type": "code",
      "source": [
        "arr = np.zeros(5,dtype=\"a5\")\n",
        "print(arr)    #initializing data type\n",
        "arr[0] = \"aaaa\"\n",
        "print(arr)"
      ],
      "metadata": {
        "colab": {
          "base_uri": "https://localhost:8080/"
        },
        "id": "8MpH9lYN45b_",
        "outputId": "38e8765e-a2e8-4d1d-ba84-ac429a7d2620"
      },
      "execution_count": null,
      "outputs": [
        {
          "output_type": "stream",
          "name": "stdout",
          "text": [
            "[b'' b'' b'' b'' b'']\n",
            "[b'aaaa' b'' b'' b'' b'']\n"
          ]
        }
      ]
    },
    {
      "cell_type": "code",
      "source": [
        "arr = np.zeros(5,dtype=\"S1\")\n",
        "print(arr)    #initializing data type\n",
        "arr[0] = \"aaaa\"\n",
        "print(arr)"
      ],
      "metadata": {
        "colab": {
          "base_uri": "https://localhost:8080/"
        },
        "id": "s-Do6e6F7YPY",
        "outputId": "05ae8a9d-c0ac-4a8b-c979-7e11630a3608"
      },
      "execution_count": null,
      "outputs": [
        {
          "output_type": "stream",
          "name": "stdout",
          "text": [
            "[b'' b'' b'' b'' b'']\n",
            "[b'a' b'' b'' b'' b'']\n"
          ]
        }
      ]
    },
    {
      "cell_type": "code",
      "source": [
        "arr = np.array(['a']*5,dtype=object)\n",
        "print(arr)\n",
        "arr[1] = \"bbb\"\n",
        "print(arr)"
      ],
      "metadata": {
        "colab": {
          "base_uri": "https://localhost:8080/"
        },
        "id": "BwXq_HYf8A7g",
        "outputId": "12c096ae-2d3b-4d21-cdfd-49b2fd16274f"
      },
      "execution_count": null,
      "outputs": [
        {
          "output_type": "stream",
          "name": "stdout",
          "text": [
            "['a' 'a' 'a' 'a' 'a']\n",
            "['a' 'bbb' 'a' 'a' 'a']\n"
          ]
        }
      ]
    },
    {
      "cell_type": "code",
      "source": [
        "arr = np.zeros(10)\n",
        "for i in range(len(arr)):\n",
        "  arr[i] = i**2\n",
        "\n",
        "print(arr)"
      ],
      "metadata": {
        "colab": {
          "base_uri": "https://localhost:8080/"
        },
        "id": "YKg2qFjD90WY",
        "outputId": "7105fe8d-1efa-4c37-af84-cd4dd07438ff"
      },
      "execution_count": null,
      "outputs": [
        {
          "output_type": "stream",
          "name": "stdout",
          "text": [
            "[ 0.  1.  4.  9. 16. 25. 36. 49. 64. 81.]\n"
          ]
        }
      ]
    },
    {
      "cell_type": "code",
      "source": [
        "#using python function\n",
        "\n",
        "arr = np.zeros(10)\n",
        "def square(arr):\n",
        "  for i in range(len(arr)):\n",
        "    arr[i] = i**2\n",
        "  return arr\n",
        "print(square(arr))"
      ],
      "metadata": {
        "colab": {
          "base_uri": "https://localhost:8080/"
        },
        "id": "cmc6P4Wa_OFB",
        "outputId": "619c65cf-9571-4007-8a68-c7e5981e6057"
      },
      "execution_count": null,
      "outputs": [
        {
          "output_type": "stream",
          "name": "stdout",
          "text": [
            "[ 0.  1.  4.  9. 16. 25. 36. 49. 64. 81.]\n"
          ]
        }
      ]
    },
    {
      "cell_type": "code",
      "source": [
        "#initializing data type in zeros\n",
        "\n",
        "arr = np.zeros(5,dtype=str)\n",
        "print(arr)"
      ],
      "metadata": {
        "colab": {
          "base_uri": "https://localhost:8080/"
        },
        "id": "663GI5wmBBAw",
        "outputId": "4354c503-59c2-4bdc-9644-ef15ef52da49"
      },
      "execution_count": null,
      "outputs": [
        {
          "output_type": "stream",
          "name": "stdout",
          "text": [
            "['' '' '' '' '']\n"
          ]
        }
      ]
    },
    {
      "cell_type": "markdown",
      "source": [
        "#Assignment Part-1"
      ],
      "metadata": {
        "id": "rjUcMp5dUeg7"
      }
    },
    {
      "cell_type": "code",
      "source": [
        "#finding mean of a array\n",
        "arr = np.array([10, 8, 13, 9, 14, 25, -5, 20, 7, 7, 4])\n",
        "sum = 0\n",
        "avg = 0\n",
        "for i in range(len(arr)):\n",
        "  sum += arr[i]\n",
        "avg = sum/len(arr)\n",
        "print(f\"The mean of the numbers is: {avg}\")"
      ],
      "metadata": {
        "colab": {
          "base_uri": "https://localhost:8080/"
        },
        "id": "PNkX8IhaCMT4",
        "outputId": "8dfeab45-bbb0-4bee-b053-9e39c028c13e"
      },
      "execution_count": null,
      "outputs": [
        {
          "output_type": "stream",
          "name": "stdout",
          "text": [
            "The mean of the numbers is: 10.181818181818182\n"
          ]
        }
      ]
    },
    {
      "cell_type": "code",
      "source": [
        "#finding mean, standard deviation and limits for new creating new array\n",
        "import math\n",
        "arr = np.array([10, 8, 13, 9, 14, 25, -5, 20, 7, 7, 4])\n",
        "sum = 0\n",
        "avg = 0\n",
        "\n",
        "for i in range(len(arr)):\n",
        "  sum += arr[i]\n",
        "avg = sum/len(arr)\n",
        "sum = 0\n",
        "\n",
        "for j in range(len(arr)):\n",
        "  sum += (arr[j] - avg)**2\n",
        "sd = math.sqrt(sum/(len(arr)-1))\n",
        "\n",
        "lower = avg-(1.5*sd)\n",
        "upper = avg+1.5*sd\n",
        "count = 0\n",
        "for i in range(len(arr)):\n",
        "  if arr[i]<=lower:\n",
        "    #print(arr[i])\n",
        "    count += 1\n",
        "  elif arr[i]>=upper:\n",
        "    #print(arr[i])\n",
        "    count +=1\n",
        "\n",
        "new = np.zeros(count, dtype=int)\n",
        "idx = 0\n",
        "for i in range(len(arr)):\n",
        "  if arr[i]<=lower:\n",
        "    new[idx] = arr[i]\n",
        "    idx += 1\n",
        "  elif arr[i]>=upper:\n",
        "    new[idx] = arr[i]\n",
        "    idx += 1\n",
        "#print(new)\n",
        "#arr1 = np.array([0]*count)\n",
        "#print(arr1)\n",
        "\n",
        "print(f\"The mean of the numbers is: {avg}\")\n",
        "print(f\"The standard deviation is: {np.round(sd,2)}\")\n",
        "print(new)"
      ],
      "metadata": {
        "id": "43_zekS-EL-5",
        "colab": {
          "base_uri": "https://localhost:8080/"
        },
        "outputId": "848a26ae-3aa7-4126-8602-ac4fcd46c6bf"
      },
      "execution_count": null,
      "outputs": [
        {
          "output_type": "stream",
          "name": "stdout",
          "text": [
            "The mean of the numbers is: 10.181818181818182\n",
            "The standard deviation is: 7.96\n",
            "[25 -5]\n"
          ]
        }
      ]
    },
    {
      "cell_type": "code",
      "source": [
        "#part 1 using python function\n",
        "import math\n",
        "def function(arr):\n",
        "  sum = 0\n",
        "  avg = 0\n",
        "  for i in range(len(arr)):\n",
        "    sum += arr[i]\n",
        "  avg = sum/len(arr)\n",
        "  sum = 0\n",
        "\n",
        "  for j in range(len(arr)):\n",
        "    sum += (arr[j] - avg)**2\n",
        "  sd = math.sqrt(sum/(len(arr)-1))\n",
        "\n",
        "  lower = avg-(1.5*sd)\n",
        "  upper = avg+1.5*sd\n",
        "  count = 0\n",
        "  for i in range(len(arr)):\n",
        "    if arr[i]<=lower:\n",
        "      count += 1\n",
        "    elif arr[i]>=upper:\n",
        "      count +=1\n",
        "\n",
        "  new = np.zeros(count, dtype=int)\n",
        "  idx = 0\n",
        "  for i in range(len(arr)):\n",
        "    if arr[i]<=lower:\n",
        "      new[idx] = arr[i]\n",
        "      idx += 1\n",
        "    elif arr[i]>=upper:\n",
        "      new[idx] = arr[i]\n",
        "      idx += 1\n",
        "  print(f\"The mean of the numbers is: {avg}\")\n",
        "  print(f\"The standard deviation is: {np.round(sd,2)}\")\n",
        "  print(new)\n",
        "\n",
        "arr = np.array([10, 8, 13, 9, 14, 25, -5, 20, 7, 7, 4])\n",
        "function(arr)"
      ],
      "metadata": {
        "colab": {
          "base_uri": "https://localhost:8080/"
        },
        "id": "c1fvkzsKddAE",
        "outputId": "5efa8ee1-a32a-4c8c-d726-eb06ff28c6f0"
      },
      "execution_count": null,
      "outputs": [
        {
          "output_type": "stream",
          "name": "stdout",
          "text": [
            "The mean of the numbers is: 10.181818181818182\n",
            "The standard deviation is: 7.96\n",
            "[25 -5]\n"
          ]
        }
      ]
    },
    {
      "cell_type": "markdown",
      "source": [
        "#Assignment Part-2"
      ],
      "metadata": {
        "id": "kWCdLznDURKi"
      }
    },
    {
      "cell_type": "code",
      "source": [
        "#Task 01: Merge Lineup\n",
        "def mergeLineup(pokemon_1, pokemon_2):\n",
        "  result = np.array([0]*len(pokemon_1))\n",
        "  for i in range(len(pokemon_1)):\n",
        "    if pokemon_1[i] == None and pokemon_2[len(pokemon_2)-1-i] == None:\n",
        "      result[i] = 0\n",
        "    elif pokemon_1[i] != None and pokemon_2[len(pokemon_2)-1-i] == None:\n",
        "      result[i] = pokemon_1[i]\n",
        "    elif pokemon_1[i] == None and pokemon_2[len(pokemon_2)-1-i] != None:\n",
        "      result[i] = pokemon_2[len(pokemon_2)-1-i]\n",
        "    else:\n",
        "      result[i] = pokemon_1[i] + pokemon_2[len(pokemon_2)-1-i]\n",
        "  return result\n",
        "\n",
        "print(\"///  Task 01: Merge Lineup  ///\")\n",
        "pokemon_1 = np.array([12, 3, 25, 1, None])\n",
        "pokemon_2 = np.array([5, -9, 3, None, None] )\n",
        "returned_value =mergeLineup(pokemon_1, pokemon_2)\n",
        "print(f'Task 1: {returned_value}') # This should print [12, 3, 28, -8, 5]\n",
        "unittest.output_test(returned_value, np.array([12, 3, 28, -8, 5]))\n",
        "pokemon_1 = np.array([4, 5, -1, None, None])\n",
        "pokemon_2 = np.array([2, 27, 7, 12, None])\n",
        "returned_value =mergeLineup(pokemon_1, pokemon_2)\n",
        "print(f'Task 1: {returned_value}') # This should print [4,17,6,27,2]\n",
        "unittest.output_test(returned_value, np.array([4,17,6,27,2]))"
      ],
      "metadata": {
        "colab": {
          "base_uri": "https://localhost:8080/"
        },
        "id": "RFlUrWrpUMyI",
        "outputId": "8bd7d31c-9370-485b-9394-afedb8722c39"
      },
      "execution_count": null,
      "outputs": [
        {
          "output_type": "stream",
          "name": "stdout",
          "text": [
            "///  Task 01: Merge Lineup  ///\n",
            "Task 1: [12  3 28 -8  5]\n",
            "Accepted\n",
            "Task 1: [ 4 17  6 27  2]\n",
            "Accepted\n"
          ]
        }
      ]
    },
    {
      "cell_type": "code",
      "source": [
        "# Task 02: Discard Cards\n",
        "\n",
        "def discardCards(cards, t):\n",
        "  flag = False\n",
        "  i = 0\n",
        "  while i<len(cards):\n",
        "    if cards[i] != t:\n",
        "      i += 1\n",
        "    elif cards[i] == t and flag == False:\n",
        "      for j in range(i, len(cards)-1):\n",
        "        cards[j] = cards[j+1]\n",
        "      flag = True\n",
        "    elif cards[i] == t and flag == True:\n",
        "      i += 1\n",
        "      flag = False\n",
        "  return cards\n",
        "\n",
        "print(\"///  Task 02: Discard Cards  ///\")\n",
        "cards = np.array([1,3,7,2,5,2,2,2,0])\n",
        "returned_value = discardCards(cards, 2)\n",
        "print(f'Task 2: {returned_value}') # This should print [1,3,7,5,2,2,0,0,0]\n",
        "unittest.output_test(returned_value, np.array([1,3,7,5,2,2,0,0,0]))\n",
        "\n",
        "cards = np.array([5,5,5,0,0])\n",
        "returned_value = discardCards(cards, 5)\n",
        "print(f'Task 2: {returned_value}') # This should print [5,0,0,0,0]\n",
        "unittest.output_test(returned_value, np.array([5,0,0,0,0]))"
      ],
      "metadata": {
        "colab": {
          "base_uri": "https://localhost:8080/"
        },
        "id": "z75iU6l0WLSH",
        "outputId": "2d4fe6f4-54ae-4987-fa20-294881a77fae"
      },
      "execution_count": null,
      "outputs": [
        {
          "output_type": "stream",
          "name": "stdout",
          "text": [
            "///  Task 02: Discard Cards  ///\n",
            "Task 2: [1 3 7 5 2 2 0 0 0]\n",
            "Accepted\n",
            "Task 2: [5 0 0 0 0]\n",
            "Accepted\n"
          ]
        }
      ]
    },
    {
      "cell_type": "code",
      "source": [
        "# Task 03: DUBER Fare Splitting\n",
        "def findGroups(money, fare):\n",
        "  ungrouped_count = 0\n",
        "  count = 0\n",
        "  for i in range(len(money)):\n",
        "    for j in range(i+1,len(money)):\n",
        "      if money[i] + money[j] == fare:\n",
        "        count += 1\n",
        "        if money[j] == 0:\n",
        "          print(f\"Group {count}: {money[i]}\")\n",
        "          money[i] = 0\n",
        "        else:\n",
        "          print(f\"Group {count}: {money[i]}, {money[j]}\")\n",
        "          money[i], money[j] = 0,0\n",
        "\n",
        "  count = 0\n",
        "  for i in range(len(money)):\n",
        "    if money[i] > 0:\n",
        "      count += 1\n",
        "\n",
        "  if count>0:\n",
        "    new = np.array([0]*count)\n",
        "    idx = 0\n",
        "    for i in range(len(money)):\n",
        "      if money[i] > 0:\n",
        "        new[idx] = money[i]\n",
        "        idx += 1\n",
        "\n",
        "    print(\"Ungrouped: \",end=\"\")\n",
        "    for i in range(len(new)):\n",
        "      if i == len(new) - 1:\n",
        "        print(new[i])\n",
        "      else:\n",
        "        print(new[i],end=\", \")\n",
        "\n",
        "\n",
        "print(\"///  Task 03: DUBER Fare Splitting  ///\")\n",
        "money = np.array( [120, 100, 150, 50, 30])\n",
        "fare = 150\n",
        "print(f'Task 3:')\n",
        "findGroups(money, fare) # This should print\n",
        "# Group 1 : 120, 30\n",
        "# Group 2 : 100, 50\n",
        "# Group 3 : 150\n",
        "\n",
        "\n",
        "money = np.array( [60, 150, 60, 30, 120, 30])\n",
        "fare = 180\n",
        "print(f'Task 3:')\n",
        "findGroups(money, fare) # This should print\n",
        "\n",
        "# Group 1 : 60, 120\n",
        "# Group 2 : 30, 150\n",
        "# Ungrouped : 30 60\n",
        "\n",
        "money = np.array([30, 150, 150])\n",
        "fare = 180\n",
        "print(f'Task 3:')\n",
        "findGroups(money, fare)\n",
        "\n",
        "money = np.array([150, 30, 40, 50, 160, 170,20, 30])\n",
        "fare = 200\n",
        "print(f'Task 3:')\n",
        "findGroups(money, fare)"
      ],
      "metadata": {
        "colab": {
          "base_uri": "https://localhost:8080/"
        },
        "id": "XQb3rKD8kFTo",
        "outputId": "b1f17463-86a1-458d-e2fe-3799caa885e4"
      },
      "execution_count": null,
      "outputs": [
        {
          "output_type": "stream",
          "name": "stdout",
          "text": [
            "///  Task 03: DUBER Fare Splitting  ///\n",
            "Task 3:\n",
            "Group 1: 120, 30\n",
            "Group 2: 100, 50\n",
            "Group 3: 150\n",
            "Task 3:\n",
            "Group 1: 60, 120\n",
            "Group 2: 150, 30\n",
            "Ungrouped: 60, 30\n",
            "Task 3:\n",
            "Group 1: 30, 150\n",
            "Ungrouped: 150\n",
            "Task 3:\n",
            "Group 1: 150, 50\n",
            "Group 2: 30, 170\n",
            "Group 3: 40, 160\n",
            "Ungrouped: 20, 30\n"
          ]
        }
      ]
    },
    {
      "cell_type": "code",
      "source": [
        "# Task 03: DUBER Fare Splitting\n",
        "def findGroups(money, fare):\n",
        "  group_count = 1\n",
        "  for i in range(len(money)):\n",
        "    if money[i] == 0:\n",
        "      pass\n",
        "    else:\n",
        "      for j in range(i+1,len(money)):\n",
        "        if money[i] + money[j] == fare:\n",
        "          if money[i] == 0:\n",
        "            print(f\"Group {group_count} : {money[j]}\")\n",
        "            money[i],money[j] = 0,0\n",
        "            group_count += 1\n",
        "          elif money[j] == 0:\n",
        "            print(f\"Group {group_count} : {money[i]}\")\n",
        "            money[i],money[j] = 0,0\n",
        "            group_count += 1\n",
        "          else:\n",
        "            print(f\"Group {group_count} : {money[i]}, {money[j]}\")\n",
        "            money[i],money[j] = 0,0\n",
        "            group_count += 1\n",
        "\n",
        "  print(\"Ungrouped: \",end=\"\")\n",
        "  for i in range(len(money)):\n",
        "    if i == len(money)-1 and money[i] != 0:\n",
        "      print(money[i])\n",
        "    elif money[i] != 0:\n",
        "      print(money[i],end=\", \")\n",
        "\n",
        "\n",
        "\n",
        "print(\"///  Task 03: DUBER Fare Splitting  ///\")\n",
        "money = np.array( [120, 100, 150, 50, 30])\n",
        "fare = 150\n",
        "print(f'Task 3:')\n",
        "findGroups(money, fare) # This should print\n",
        "# Group 1 : 120, 30\n",
        "# Group 2 : 100, 50\n",
        "# Group 3 : 150\n",
        "\n",
        "\n",
        "money = np.array( [60, 150, 60, 30, 120, 30])\n",
        "fare = 180\n",
        "print(f'Task 3:')\n",
        "findGroups(money, fare) # This should print\n",
        "\n",
        "# Group 1 : 60, 120\n",
        "# Group 2 : 30, 150\n",
        "# Ungrouped : 30 60\n",
        "\n",
        "money = np.array([30, 150, 150])\n",
        "fare = 180\n",
        "print(f'Task 3:')\n",
        "findGroups(money, fare)\n",
        "\n",
        "money = np.array([150, 30, 40, 50, 160, 170, 20, 30])\n",
        "fare = 200\n",
        "print(f'Task 3:')\n",
        "findGroups(money, fare)"
      ],
      "metadata": {
        "colab": {
          "base_uri": "https://localhost:8080/"
        },
        "id": "GV6fVrzdSn-y",
        "outputId": "df7bb24b-aba8-44d0-b6ff-98e3bfec38ca"
      },
      "execution_count": null,
      "outputs": [
        {
          "output_type": "stream",
          "name": "stdout",
          "text": [
            "///  Task 03: DUBER Fare Splitting  ///\n",
            "Task 3:\n",
            "Group 1 : 120, 30\n",
            "Group 2 : 100, 50\n",
            "Group 3 : 150\n",
            "Ungrouped: Task 3:\n",
            "Group 1 : 60, 120\n",
            "Group 2 : 150, 30\n",
            "Ungrouped: 60, 30\n",
            "Task 3:\n",
            "Group 1 : 30, 150\n",
            "Ungrouped: 150\n",
            "Task 3:\n",
            "Group 1 : 150, 50\n",
            "Group 2 : 30, 170\n",
            "Group 3 : 40, 160\n",
            "Ungrouped: 20, 30\n"
          ]
        }
      ]
    },
    {
      "cell_type": "code",
      "source": [
        "# Task 03: DUBER Fare Splitting (final)\n",
        "def findGroups(money, fare):\n",
        "  count = 0\n",
        "  for i in range(len(money)):\n",
        "    for j in range(i+1,len(money)):\n",
        "      if money[i] + money[j] == fare:\n",
        "        count += 1\n",
        "        if money[j] == 0:\n",
        "          print(f\"Group {count}: {money[i]}\")\n",
        "          money[i] = 0\n",
        "        else:\n",
        "          print(f\"Group {count}: {money[i]}, {money[j]}\")\n",
        "          money[i], money[j] = 0,0\n",
        "\n",
        "  print(\"Ungrouped: \",end=\"\")\n",
        "  for i in range(len(money)):\n",
        "    if i == len(money)-1 and money[i] != 0:\n",
        "      print(money[i])\n",
        "    elif money[i] != 0:\n",
        "      print(money[i],end=\", \")\n",
        "\n",
        "print(\"///  Task 03: DUBER Fare Splitting  ///\")\n",
        "money = np.array( [120, 100, 150, 50, 30])\n",
        "fare = 150\n",
        "print(f'Task 3:')\n",
        "findGroups(money, fare) # This should print\n",
        "# Group 1 : 120, 30\n",
        "# Group 2 : 100, 50\n",
        "# Group 3 : 150\n",
        "\n",
        "\n",
        "money = np.array( [60, 150, 60, 30, 120, 30])\n",
        "fare = 180\n",
        "print(f'Task 3:')\n",
        "findGroups(money, fare) # This should print\n",
        "\n",
        "# Group 1 : 60, 120\n",
        "# Group 2 : 30, 150\n",
        "# Ungrouped : 30 60\n",
        "\n",
        "money = np.array([30, 150, 150])\n",
        "fare = 180\n",
        "print(f'Task 3:')\n",
        "findGroups(money, fare)\n",
        "\n",
        "money = np.array([150, 30, 40, 50, 160, 170, 20, 30])\n",
        "fare = 200\n",
        "print(f'Task 3:')\n",
        "findGroups(money, fare)"
      ],
      "metadata": {
        "colab": {
          "base_uri": "https://localhost:8080/"
        },
        "id": "KRjXEF6SZITA",
        "outputId": "7ade9d0f-342b-45b2-f662-203185a508aa"
      },
      "execution_count": null,
      "outputs": [
        {
          "output_type": "stream",
          "name": "stdout",
          "text": [
            "///  Task 03: DUBER Fare Splitting  ///\n",
            "Task 3:\n",
            "Group 1: 120, 30\n",
            "Group 2: 100, 50\n",
            "Group 3: 150\n",
            "Ungrouped: Task 3:\n",
            "Group 1: 60, 120\n",
            "Group 2: 150, 30\n",
            "Ungrouped: 60, 30\n",
            "Task 3:\n",
            "Group 1: 30, 150\n",
            "Ungrouped: 150\n",
            "Task 3:\n",
            "Group 1: 150, 50\n",
            "Group 2: 30, 170\n",
            "Group 3: 40, 160\n",
            "Ungrouped: 20, 30\n"
          ]
        }
      ]
    },
    {
      "cell_type": "code",
      "source": [
        "#Task 4 (using only array)\n",
        "def analyzeHobbies(* participants): #(* arguments) is used for variable number of parameters\n",
        "  length = 0            #keeping all the values in a single array, that's why firstly we're counting the length of an array\n",
        "  for i in range(len(participants)):\n",
        "    for j in range(len(participants[i])):\n",
        "      length += 1\n",
        "\n",
        "\n",
        "  new = np.array([\"\"]*length,dtype=object)\n",
        "  copy = np.array([\"\"]*length,dtype=object)  #copy array will be required later to compare how many participants are there.\n",
        "  index = 0\n",
        "  for i in range(len(participants)):         #keeping all the participants in the length created array\n",
        "    for j in range(len(participants[i])):\n",
        "      new[index] = participants[i][j]\n",
        "      copy[index] = participants[i][j]\n",
        "      index += 1\n",
        " # print(new)\n",
        "\n",
        "  #making the new array's multiple values \"\" to count the unqiue participants of the array\n",
        "  for i in range(len(new)):\n",
        "    for j in range(i+1,len(new)):\n",
        "      if new[j] == new[i]:\n",
        "        new[j] = \"\"\n",
        " # print(new)\n",
        "\n",
        "  #this count will count the final array that will help to make a new array of the unique array's length\n",
        "  count = 0\n",
        "  for i in range(len(new)):\n",
        "    if new[i] == \"\":\n",
        "      pass\n",
        "    else:\n",
        "      count+=1\n",
        " # print(count)\n",
        "\n",
        "  #creating the final array for the unique values of the participants\n",
        "  final_arr = np.zeros(count,dtype=object)\n",
        "  index = 0\n",
        "  for i in range(len(new)):\n",
        "    if new[i] != \"\":\n",
        "      final_arr[index] = new[i]\n",
        "      index += 1\n",
        "  print(\"Unique Activities in the Town: \")\n",
        "  print(final_arr)\n",
        "\n",
        "  #printing number of participants for an individual participant.\n",
        "  c = 0\n",
        "  for i in range(len(final_arr)):\n",
        "    for j in range(len(copy)):\n",
        "      if final_arr[i] == copy[j]:\n",
        "        c += 1\n",
        "    print(f\"{c} participant(s) like(s) {final_arr[i]}.\")\n",
        "    c = 0\n",
        "\n",
        "print(\"///  Task 04: Get Those Hobbies  ///\")\n",
        "participant_1 = np.array( [\"Hiking\", \"Reading\", \"Photography\", \"Cooking\"])\n",
        "participant_2 = np.array( [\"Reading\", \"Hiking\", \"Painting\"])\n",
        "participant_3 = np.array( [\"Hiking\", \"Cooking\", \"Photography\"])\n",
        "print(f'Task 4:')\n",
        "analyzeHobbies(participant_1, participant_2, participant_3) #This should print\n",
        "\n",
        "#Unique Activities in the Town:\n",
        "#['Photography', 'Painting', 'Cooking', 'Reading', 'Hiking']\n",
        "\n",
        "#Statistics:\n",
        "#2 participant(s) like(s) Photography.\n",
        "#1 participant(s) like(s) Painting.\n",
        "#2 participant(s) like(s) Cooking.\n",
        "#2 participant(s) like(s) Reading.\n",
        "#3 participant(s) like(s) Hiking.\n",
        "\n",
        "\n",
        "\n",
        "participant_1 = np.array( [\"Gardening\", \"Traveling\"])\n",
        "participant_2 = np.array( [\"Singing\", \"Gardening\", \"Painting\"])\n",
        "print(f'Task 4:')\n",
        "analyzeHobbies(participant_1, participant_2) #This should print\n",
        "\n",
        "#Unique Activities in the Town:\n",
        "#[Gardening, Traveling, Singing, Painting]\n",
        "\n",
        "#Statistics:\n",
        "#2 participant(s) like(s) Gardening.\n",
        "#1 participant(s) like(s) Traveling.\n",
        "#1 participant(s) like(s) Singing.\n",
        "#1 participant(s) like(s) Painting."
      ],
      "metadata": {
        "colab": {
          "base_uri": "https://localhost:8080/"
        },
        "id": "Gw6LFiYXpaSX",
        "outputId": "321a3c63-29f4-4cad-be1e-e25d740a1109"
      },
      "execution_count": null,
      "outputs": [
        {
          "output_type": "stream",
          "name": "stdout",
          "text": [
            "///  Task 04: Get Those Hobbies  ///\n",
            "Task 4:\n",
            "Unique Activities in the Town: \n",
            "['Hiking' 'Reading' 'Photography' 'Cooking' 'Painting']\n",
            "3 participant(s) like(s) Hiking.\n",
            "2 participant(s) like(s) Reading.\n",
            "2 participant(s) like(s) Photography.\n",
            "2 participant(s) like(s) Cooking.\n",
            "1 participant(s) like(s) Painting.\n",
            "Task 4:\n",
            "Unique Activities in the Town: \n",
            "['Gardening' 'Traveling' 'Singing' 'Painting']\n",
            "2 participant(s) like(s) Gardening.\n",
            "1 participant(s) like(s) Traveling.\n",
            "1 participant(s) like(s) Singing.\n",
            "1 participant(s) like(s) Painting.\n"
          ]
        }
      ]
    },
    {
      "cell_type": "code",
      "source": [
        "# Bonus Ungraded Task: Look and Say\n",
        "def look_and_say(arr):\n",
        "  new = np.array([0]*100)\n",
        "  count = 0\n",
        "  pos = 0\n",
        "  arr_idx = 0\n",
        "  for i in range(len(arr)):\n",
        "    for j in range(pos, len(arr)):\n",
        "      if arr[j] == arr[i]:\n",
        "        count += 1\n",
        "      elif arr[j] != arr[i]:\n",
        "        pos = j\n",
        "        break\n",
        "      else:\n",
        "        pos = j\n",
        "        break\n",
        "      #print(pos)\n",
        "    if count == 0:\n",
        "      pass\n",
        "    else:\n",
        "      new[arr_idx] = count\n",
        "      arr_idx += 1\n",
        "      new[arr_idx] = arr[i]\n",
        "      arr_idx += 1\n",
        "    count = 0\n",
        " # print(new)\n",
        "\n",
        "  c = 0\n",
        "  for i in new:\n",
        "    if i == 0:\n",
        "      break\n",
        "    else:\n",
        "      c +=1\n",
        "  index = 0\n",
        "\n",
        "  new_arr = np.array([0]*c)\n",
        "  for i in range(c):\n",
        "    new_arr[index] = new[i]\n",
        "    index +=1\n",
        "  return new_arr\n",
        "\n",
        "print(\"///  Bonus Task: Look and Say  ///\")\n",
        "arr = np.array([1,3,1,1,2,2,2,1])\n",
        "returned_value = look_and_say(arr)\n",
        "print(f'Bonus Task: {returned_value}')  # This should print [1,1,1,3,2,1,3,2,1,1]\n",
        "\n",
        "print(\"///  Bonus Task: Look and Say  ///\")\n",
        "arr = np.array([3,1,1,3])\n",
        "returned_value = look_and_say(arr)\n",
        "print(f'Bonus Task: {returned_value}')\n",
        "\n",
        "#Hint: The size of the new array will never be more than 100.\n",
        "#[You need not worry about the extra zeroes at the end of your resulting array]"
      ],
      "metadata": {
        "colab": {
          "base_uri": "https://localhost:8080/"
        },
        "id": "IKOecG-EHi1z",
        "outputId": "16aa97ea-ff29-41b0-e2b9-ed6819fca7c3"
      },
      "execution_count": null,
      "outputs": [
        {
          "output_type": "stream",
          "name": "stdout",
          "text": [
            "///  Bonus Task: Look and Say  ///\n",
            "Bonus Task: [1 1 1 3 2 1 3 2 1 1]\n",
            "///  Bonus Task: Look and Say  ///\n",
            "Bonus Task: [1 3 2 1 1 3]\n"
          ]
        }
      ]
    }
  ]
}