{
  "nbformat": 4,
  "nbformat_minor": 0,
  "metadata": {
    "colab": {
      "provenance": []
    },
    "kernelspec": {
      "name": "python3",
      "display_name": "Python 3"
    },
    "language_info": {
      "name": "python"
    }
  },
  "cells": [
    {
      "cell_type": "markdown",
      "source": [
        "#Array Question solving & Practise"
      ],
      "metadata": {
        "id": "DLhlmGVenipC"
      }
    },
    {
      "cell_type": "code",
      "source": [
        "import numpy as np"
      ],
      "metadata": {
        "id": "eHsuB3Exn9Yj"
      },
      "execution_count": null,
      "outputs": []
    },
    {
      "cell_type": "code",
      "source": [
        "#left shift in array\n",
        "def left_shift(arr):\n",
        "  for i in range(len(arr)-1):\n",
        "    arr[i] = arr[i+1]\n",
        "  arr[len(arr)-1] = 0\n",
        "  return arr\n",
        "\n",
        "arr = np.array([1,2,3])\n",
        "print(arr)\n",
        "left_shift(arr)\n",
        "print(arr)"
      ],
      "metadata": {
        "colab": {
          "base_uri": "https://localhost:8080/"
        },
        "id": "BbyBh6eYwa0N",
        "outputId": "af03a1a8-8654-4f53-9584-53177c5fbfaa"
      },
      "execution_count": null,
      "outputs": [
        {
          "output_type": "stream",
          "name": "stdout",
          "text": [
            "[1 2 3]\n",
            "[2 3 0]\n"
          ]
        }
      ]
    },
    {
      "cell_type": "code",
      "source": [
        "#right shift in array\n",
        "def right_shift(arr):\n",
        "  for i in range(len(arr)-1,0,-1):\n",
        "    #print(i)\n",
        "    arr[i] = arr[i-1]\n",
        "  arr[0] = 0\n",
        "  return arr\n",
        "\n",
        "arr = np.array([1,2,3])\n",
        "print(arr)\n",
        "right_shift(arr)\n",
        "print(arr)"
      ],
      "metadata": {
        "colab": {
          "base_uri": "https://localhost:8080/"
        },
        "id": "XR2KsZrnxO28",
        "outputId": "3339fa4b-4a1e-4189-c1a3-8a8eb3df60a5"
      },
      "execution_count": null,
      "outputs": [
        {
          "output_type": "stream",
          "name": "stdout",
          "text": [
            "[1 2 3]\n",
            "[0 1 2]\n"
          ]
        }
      ]
    },
    {
      "cell_type": "code",
      "source": [
        "#left rotating in array\n",
        "def left_rotate(arr):\n",
        "  temp = arr[0]\n",
        "  for i in range(len(arr)):\n",
        "    if i == len(arr) - 1:\n",
        "      break\n",
        "    else:\n",
        "      arr[i] = arr[i+1]\n",
        "  arr[len(arr)-1] = temp\n",
        "  return arr\n",
        "\n",
        "arr = np.array([1,2,3,4,5])\n",
        "left_rotate(arr)"
      ],
      "metadata": {
        "id": "TM2DOFplyTxO",
        "colab": {
          "base_uri": "https://localhost:8080/"
        },
        "outputId": "b052bdbd-64bb-44e0-8143-bf09f4eba422"
      },
      "execution_count": null,
      "outputs": [
        {
          "output_type": "execute_result",
          "data": {
            "text/plain": [
              "array([2, 3, 4, 5, 1])"
            ]
          },
          "metadata": {},
          "execution_count": 56
        }
      ]
    },
    {
      "cell_type": "code",
      "source": [
        "#right rotating in array\n",
        "def right_rotate(arr):\n",
        "  temp = arr[len(arr)-1]\n",
        "  for i in range(len(arr)-1,0,-1):\n",
        "    arr[i] = arr[i-1]\n",
        "  arr[0] = temp\n",
        "  return arr\n",
        "\n",
        "arr = np.array([1,2,3,4,5])\n",
        "right_rotate(arr)"
      ],
      "metadata": {
        "colab": {
          "base_uri": "https://localhost:8080/"
        },
        "id": "vmNuzwBS5ZNL",
        "outputId": "606a3817-27ae-45f7-f4a4-e4b8a0def494"
      },
      "execution_count": null,
      "outputs": [
        {
          "output_type": "execute_result",
          "data": {
            "text/plain": [
              "array([5, 1, 2, 3, 4])"
            ]
          },
          "metadata": {},
          "execution_count": 57
        }
      ]
    },
    {
      "cell_type": "code",
      "source": [
        "#without creating new array\n",
        "def array_reverse(arr):\n",
        "  for i in range(len(arr)//2):\n",
        "    temp = arr[i]\n",
        "    arr[i] = arr[len(arr)-1-i]\n",
        "    arr[len(arr)-1-i] = temp\n",
        "  return arr\n",
        "\n",
        "arr = np.array([1,2,3,4,5])\n",
        "array_reverse(arr)"
      ],
      "metadata": {
        "colab": {
          "base_uri": "https://localhost:8080/"
        },
        "id": "72QmCO3M7mVM",
        "outputId": "0b18e0f0-b689-4961-f53f-9dfb881c9baa"
      },
      "execution_count": null,
      "outputs": [
        {
          "output_type": "execute_result",
          "data": {
            "text/plain": [
              "array([5, 4, 3, 2, 1])"
            ]
          },
          "metadata": {},
          "execution_count": 58
        }
      ]
    },
    {
      "cell_type": "code",
      "source": [
        "#with creating new array\n",
        "def array_reverse(arr):\n",
        "  newArray = np.array([0]*len(arr))\n",
        "  for i in range(len(arr)):\n",
        "    newArray[len(arr)-1-i] = arr[i]\n",
        "  return newArray\n",
        "\n",
        "arr = np.array([1,2,3,4,5])\n",
        "array_reverse(arr)"
      ],
      "metadata": {
        "colab": {
          "base_uri": "https://localhost:8080/"
        },
        "id": "DvIXKx4M9oPp",
        "outputId": "c93661ca-3754-47c6-ecef-8eda887aff63"
      },
      "execution_count": null,
      "outputs": [
        {
          "output_type": "execute_result",
          "data": {
            "text/plain": [
              "array([5, 4, 3, 2, 1])"
            ]
          },
          "metadata": {},
          "execution_count": 59
        }
      ]
    },
    {
      "cell_type": "code",
      "source": [
        "#using while loop (reversing array)\n",
        "\n",
        "def array_reverse(arr):\n",
        "  i = 0\n",
        "  j = len(arr)-1\n",
        "  while i<j//2:\n",
        "    temp = arr[i]\n",
        "    arr[i] = arr[len(arr)-1-i]\n",
        "    arr[len(arr)-1-i] = temp\n",
        "    i+=1\n",
        "  return arr\n",
        "\n",
        "arr = np.array([1,2,3,4,5])\n",
        "array_reverse(arr)"
      ],
      "metadata": {
        "colab": {
          "base_uri": "https://localhost:8080/"
        },
        "id": "FH-kQjRu-Gpc",
        "outputId": "3d9ea72f-19ec-41c7-a62e-e900854a1767"
      },
      "execution_count": null,
      "outputs": [
        {
          "output_type": "execute_result",
          "data": {
            "text/plain": [
              "array([5, 4, 3, 2, 1])"
            ]
          },
          "metadata": {},
          "execution_count": 60
        }
      ]
    },
    {
      "cell_type": "code",
      "source": [
        "def sortedArray(arr):\n",
        "  for i in range(len(arr)):\n",
        "    temp = arr[i]\n",
        "    for j in range(i,len(arr)):\n",
        "      if arr[j] < temp:\n",
        "        arr[i] = arr[j]\n",
        "        arr[j] = temp\n",
        "  return arr\n",
        "\n",
        "arr = np.array([2,5,1,9,7])\n",
        "sortedArray(arr)"
      ],
      "metadata": {
        "colab": {
          "base_uri": "https://localhost:8080/"
        },
        "id": "xAYtpty9_kfa",
        "outputId": "4839e1d0-e5b7-4840-a717-ae1795ec483e"
      },
      "execution_count": null,
      "outputs": [
        {
          "output_type": "execute_result",
          "data": {
            "text/plain": [
              "array([1, 2, 5, 7, 9])"
            ]
          },
          "metadata": {},
          "execution_count": 61
        }
      ]
    },
    {
      "cell_type": "code",
      "source": [
        "def arr_sort(arr):\n",
        "  temp = 0\n",
        "  for i in range(len(arr)):\n",
        "    if arr[i] == 0:\n",
        "      temp = arr[i]\n",
        "      for j in range(i+1,len(arr)):\n",
        "          arr[j-1] = arr[j]\n",
        "          arr[j] = temp\n",
        "\n",
        "\n",
        "  return arr\n",
        "arr = np.array([1,4,2,7,0,3,6,2,0,0,4,5,0,1])\n",
        "arr_sort(arr)"
      ],
      "metadata": {
        "colab": {
          "base_uri": "https://localhost:8080/"
        },
        "id": "zFy8qBmLQZpp",
        "outputId": "87a32ad9-f8fb-44b7-f0ba-b641b230a424"
      },
      "execution_count": null,
      "outputs": [
        {
          "output_type": "execute_result",
          "data": {
            "text/plain": [
              "array([1, 4, 2, 7, 3, 6, 2, 0, 4, 5, 1, 0, 0, 0])"
            ]
          },
          "metadata": {},
          "execution_count": 62
        }
      ]
    },
    {
      "cell_type": "code",
      "source": [
        "#multi-dimensional array\n",
        "\n",
        "arr = np.array([[1,2,3],[4,5,6],[7,8,9]])   #defining multidimensional array\n",
        "print(f\"Multidimensional Array: \\n{arr}\")\n",
        "print(f\"shape of the array: {arr.shape}\")   #defining shape of a multidimensional array"
      ],
      "metadata": {
        "colab": {
          "base_uri": "https://localhost:8080/"
        },
        "id": "A6yut02QzPY6",
        "outputId": "1a72c191-9371-4691-9252-72a41953f836"
      },
      "execution_count": null,
      "outputs": [
        {
          "output_type": "stream",
          "name": "stdout",
          "text": [
            "Multidimensional Array: \n",
            "[[1 2 3]\n",
            " [4 5 6]\n",
            " [7 8 9]]\n",
            "shape of the array: (3, 3)\n"
          ]
        }
      ]
    },
    {
      "cell_type": "code",
      "source": [
        "#printing mul array using loop\n",
        "arr = np.array([[1,2,3],[4,5,6],[7,8,9]])\n",
        "\n",
        "#using while loop:\n",
        "a = 0\n",
        "while a < len(arr):\n",
        "  b = 0\n",
        "  while b < len(arr[a]):\n",
        "    print(arr[a][b],end=\" \")\n",
        "    b +=1\n",
        "  a += 1\n",
        "  print()\n",
        "\n",
        "print()\n",
        "#using for loop\n",
        "for i in range(len(arr)):\n",
        "  for j in range(len(arr[i])):\n",
        "   print(arr[i][j],end=\" \")\n",
        "  print()"
      ],
      "metadata": {
        "colab": {
          "base_uri": "https://localhost:8080/"
        },
        "id": "zj4T0Zuc0FtA",
        "outputId": "01e56e51-9142-4a58-f14f-e00513480ff5"
      },
      "execution_count": null,
      "outputs": [
        {
          "output_type": "stream",
          "name": "stdout",
          "text": [
            "1 2 3 \n",
            "4 5 6 \n",
            "7 8 9 \n",
            "\n",
            "1 2 3 \n",
            "4 5 6 \n",
            "7 8 9 \n"
          ]
        }
      ]
    },
    {
      "cell_type": "code",
      "source": [
        "#reverse printing mul array using loop\n",
        "arr = np.array([[1,2,3],[4,5,6],[7,8,9]])\n",
        "a = len(arr)-1\n",
        "\n",
        "#using while loop\n",
        "while a >= 0:\n",
        "  b = len(arr[a])-1\n",
        "  while b >= 0:\n",
        "    print(arr[a][b],end=\" \")\n",
        "    b -=1\n",
        "  print()\n",
        "  a -= 1\n",
        "\n",
        "print()\n",
        "#using for loop\n",
        "for i in range(len(arr)-1,-1,-1):\n",
        "  for j in range(len(arr[i])-1,-1,-1):\n",
        "    print(arr[i][j],end=\" \")\n",
        "  print()"
      ],
      "metadata": {
        "colab": {
          "base_uri": "https://localhost:8080/"
        },
        "id": "sjuK-ds40qGU",
        "outputId": "d2077b14-90f5-4416-f3a7-4e1e54cac9d6"
      },
      "execution_count": null,
      "outputs": [
        {
          "output_type": "stream",
          "name": "stdout",
          "text": [
            "9 8 7 \n",
            "6 5 4 \n",
            "3 2 1 \n",
            "\n",
            "9 8 7 \n",
            "6 5 4 \n",
            "3 2 1 \n"
          ]
        }
      ]
    },
    {
      "cell_type": "code",
      "source": [
        "#matrix unpacking (sum)\n",
        "\n",
        "arr = np.array([[1,2,3],[4,5,6],[7,8,9]])\n",
        "sum = 0\n",
        "for i in range(len(arr)):\n",
        "  for j in range(len(arr[i])):\n",
        "    sum += arr[i][j]\n",
        "print(sum)"
      ],
      "metadata": {
        "colab": {
          "base_uri": "https://localhost:8080/"
        },
        "id": "kmf88aoD_LwW",
        "outputId": "70cc8e6a-f2db-4b94-8edc-c2b89169929f"
      },
      "execution_count": null,
      "outputs": [
        {
          "output_type": "stream",
          "name": "stdout",
          "text": [
            "45\n"
          ]
        }
      ]
    },
    {
      "cell_type": "code",
      "source": [
        "#matrix unpacking (multiplying)\n",
        "\n",
        "def matrix(arr1,arr2):\n",
        "  row1, col1 = arr1.shape\n",
        "  row2, col2 = arr2.shape\n",
        "\n",
        "  if col1 == row2:\n",
        "    res = np.zeros((row1,col2), dtype=int)\n",
        "    print(res)\n",
        "    for i in range(row1):\n",
        "      for j in range(col2):\n",
        "        for k in range(col1):\n",
        "          res[i][j] += arr1[i][k]*arr2[k][j]\n",
        "  print(res)\n",
        "\n",
        "\n",
        "\n",
        "arr1 = np.array([[1,2,3]])\n",
        "arr2 = np.array([[3,2],[6,5],[1,7]])\n",
        "matrix(arr1,arr2)\n"
      ],
      "metadata": {
        "colab": {
          "base_uri": "https://localhost:8080/"
        },
        "id": "_wiraU4G4IsL",
        "outputId": "280f1f38-210d-4779-c894-21fd1020b1db"
      },
      "execution_count": null,
      "outputs": [
        {
          "output_type": "stream",
          "name": "stdout",
          "text": [
            "[[0 0]]\n",
            "[[18 33]]\n"
          ]
        }
      ]
    },
    {
      "cell_type": "code",
      "source": [
        "#left lower triangular addition\n",
        "\n",
        "arr = np.array([[1,2,3],[4,5,6],[7,8,9]])\n",
        "sum = 0\n",
        "for i in range(len(arr)):\n",
        "  for j in range(i+1):\n",
        "    sum += arr[i][j]\n",
        "    print(arr[i][j],end=\" \")\n",
        "  print()\n",
        "print(f\"Sum of the triangle: {sum}\")"
      ],
      "metadata": {
        "colab": {
          "base_uri": "https://localhost:8080/"
        },
        "id": "NyYDU0CA_n4l",
        "outputId": "3bb9e241-52ba-411f-d38b-2fd17ec8148b"
      },
      "execution_count": null,
      "outputs": [
        {
          "output_type": "stream",
          "name": "stdout",
          "text": [
            "1 \n",
            "4 5 \n",
            "7 8 9 \n",
            "Sum of the triangle: 34\n"
          ]
        }
      ]
    },
    {
      "cell_type": "code",
      "source": [
        "#right lower triangular addition\n",
        "\n",
        "arr = np.array([[1,2,3],[4,5,6],[7,8,9]])\n",
        "sum = 0\n",
        "a = len(arr)-1\n",
        "for i in range(len(arr)):\n",
        "  for j in range(len(arr[i])):\n",
        "    if j>=a:\n",
        "      print(arr[i][j],end=\" \")\n",
        "      sum += arr[i][j]\n",
        "      a -=1\n",
        "    else:\n",
        "      print(\" \",end=\" \")\n",
        "  print()\n",
        "print(f\"Sum of the triangle: {sum}\")"
      ],
      "metadata": {
        "colab": {
          "base_uri": "https://localhost:8080/"
        },
        "id": "nclLsPyaAR_w",
        "outputId": "197b8478-1f71-49d7-d68c-a0b6ab88ee0c"
      },
      "execution_count": null,
      "outputs": [
        {
          "output_type": "stream",
          "name": "stdout",
          "text": [
            "    3 \n",
            "  5 6 \n",
            "7 8 9 \n",
            "Sum of the triangle: 38\n"
          ]
        }
      ]
    },
    {
      "cell_type": "code",
      "source": [
        "#left upper triangular addition\n",
        "\n",
        "sum = 0\n",
        "arr = np.array([[1,2,3],[4,5,6],[7,8,9]])\n",
        "for i in range(len(arr)):\n",
        "  for j in range(len(arr[i])-i):\n",
        "    print(arr[i][j],end=\" \")\n",
        "    sum += arr[i][j]\n",
        "  print()\n",
        "print(f\"Sum of the triangle: {sum}\")"
      ],
      "metadata": {
        "colab": {
          "base_uri": "https://localhost:8080/"
        },
        "id": "Xe0TPs-lC4vA",
        "outputId": "b088c500-7d36-4a6a-dbda-28ba9ce45900"
      },
      "execution_count": null,
      "outputs": [
        {
          "output_type": "stream",
          "name": "stdout",
          "text": [
            "1 2 3 \n",
            "4 5 \n",
            "7 \n",
            "Sum of the triangle: 22\n"
          ]
        }
      ]
    },
    {
      "cell_type": "code",
      "source": [
        "#right upper triangular addition\n",
        "\n",
        "sum = 0\n",
        "arr = np.array([[1,2,3],[4,5,6],[7,8,9]])\n",
        "for i in range(len(arr)):\n",
        "  for j in range(len(arr[i])):\n",
        "    if j>=i:\n",
        "      print(arr[i][j],end=\" \")\n",
        "      sum += arr[i][j]\n",
        "    elif j<i:\n",
        "      print(\" \",end=\" \")\n",
        "\n",
        "  print()\n",
        "print(f\"Sum of the triangle: {sum}\")"
      ],
      "metadata": {
        "colab": {
          "base_uri": "https://localhost:8080/"
        },
        "id": "nL5Y2tc5EC7v",
        "outputId": "50380c0e-8541-43a1-ceb2-b652c906c98a"
      },
      "execution_count": null,
      "outputs": [
        {
          "output_type": "stream",
          "name": "stdout",
          "text": [
            "1 2 3 \n",
            "  5 6 \n",
            "    9 \n",
            "Sum of the triangle: 26\n"
          ]
        }
      ]
    },
    {
      "cell_type": "code",
      "source": [
        "a = 3 #row\n",
        "b = 1 #column\n",
        "arr = np.zeros((a,b))\n",
        "print(arr)\n",
        "\n",
        "arr += 2\n",
        "print(arr)"
      ],
      "metadata": {
        "colab": {
          "base_uri": "https://localhost:8080/"
        },
        "id": "0IuYMK8m8I8f",
        "outputId": "718da091-69e5-4297-fa93-3caefa337a5b"
      },
      "execution_count": null,
      "outputs": [
        {
          "output_type": "stream",
          "name": "stdout",
          "text": [
            "[[0.]\n",
            " [0.]\n",
            " [0.]]\n",
            "[[2.]\n",
            " [2.]\n",
            " [2.]]\n"
          ]
        }
      ]
    },
    {
      "cell_type": "markdown",
      "source": [
        "#Array problem solving"
      ],
      "metadata": {
        "id": "5xJhuY6ozPrG"
      }
    },
    {
      "cell_type": "code",
      "execution_count": null,
      "metadata": {
        "colab": {
          "base_uri": "https://localhost:8080/"
        },
        "id": "3aNtbxM-nS33",
        "outputId": "72aa3506-bd97-4228-bb83-a45a6698e8e5"
      },
      "outputs": [
        {
          "output_type": "stream",
          "name": "stdout",
          "text": [
            "Test 1:\n",
            "5\n",
            "Test 2:\n",
            "7\n"
          ]
        }
      ],
      "source": [
        "#Q1\n",
        "\n",
        "def union(*arr):\n",
        "  emp = []\n",
        "  for i in range(len(arr)):\n",
        "    for j in range(len(arr[i])):\n",
        "      if arr[i][j] not in emp:\n",
        "        emp.append(arr[i][j])\n",
        "  print(len(emp))\n",
        "\n",
        "print(\"Test 1:\")\n",
        "a = np.array([1,2,3,4,5])\n",
        "b = np.array([1,2,3])\n",
        "union(a,b)\n",
        "\n",
        "print(\"Test 2:\")\n",
        "a = np.array([85,25,1,32,54,6])\n",
        "b = np.array([85,2])\n",
        "union(a,b)"
      ]
    },
    {
      "cell_type": "code",
      "source": [
        "#Q2\n",
        "\n",
        "def sortArray(arr):\n",
        "  pos = 0\n",
        "  neg = 0\n",
        "  for i in range(len(arr)):\n",
        "    if arr[i] < 0:\n",
        "      neg +=1\n",
        "    elif arr[i] >= 0:\n",
        "      pos += 1\n",
        "\n",
        "  postive_arr = np.array([0]*pos)\n",
        "  negative_arr = np.array([0]*neg)\n",
        "  pos_index = 0\n",
        "  neg_index = 0\n",
        "  for i in range(len(arr)):\n",
        "    if arr[i] > 0:\n",
        "      postive_arr[pos_index] = arr[i]\n",
        "      pos_index += 1\n",
        "  #print(postive_arr)\n",
        "\n",
        "  for i in range(len(arr)):\n",
        "    if arr[i] < 0:\n",
        "      negative_arr[neg_index] = arr[i]\n",
        "      neg_index += 1\n",
        "  #print(negative_arr)\n",
        "\n",
        "  final_len_array = pos + neg\n",
        "  final = np.array([0]*final_len_array)\n",
        "  pos = 0\n",
        "  for i in range(len(postive_arr)):\n",
        "    final[i] = postive_arr[i]\n",
        "    pos += 1\n",
        "  for j in range(len(negative_arr)):\n",
        "    final[pos] = negative_arr[j]\n",
        "    pos += 1\n",
        "  print(final)\n",
        "\n",
        "print(\"Test 1:\")\n",
        "arr = np.array([1, -1, 3, 2, -7, -5, 11, 6])\n",
        "sortArray(arr)\n",
        "\n",
        "print(\"Test 2:\")\n",
        "arr = np.array([-5, 7, -3, -4, 9, 10, -1, 11])\n",
        "sortArray(arr)\n"
      ],
      "metadata": {
        "colab": {
          "base_uri": "https://localhost:8080/"
        },
        "id": "cVcpP08sqPXu",
        "outputId": "9c0a70f0-7eed-4cb5-dd75-3b9cb0dbfff6"
      },
      "execution_count": null,
      "outputs": [
        {
          "output_type": "stream",
          "name": "stdout",
          "text": [
            "Test 1:\n",
            "[ 1  3  2 11  6 -1 -7 -5]\n",
            "Test 2:\n",
            "[ 7  9 10 11 -5 -3 -4 -1]\n"
          ]
        }
      ]
    },
    {
      "cell_type": "code",
      "source": [
        "#Q3\n",
        "\n",
        "def unsortedArray(arr,sum):\n",
        "  starting_index = 1\n",
        "  ending_index = 1\n",
        "  final = 0\n",
        "  flag = False\n",
        "  for i in range(len(arr)):\n",
        "    starting_index += i\n",
        "    for j in range(i,len(arr)):\n",
        "      final += arr[j]\n",
        "      if final == sum:\n",
        "        print(f\"Starting postion: {starting_index} &\",end= \" \")\n",
        "        print(f\"Ending positon: {ending_index+j}\")\n",
        "        flag = True\n",
        "        break\n",
        "      elif final > sum:\n",
        "        final = 0\n",
        "        starting_index = 1\n",
        "        break\n",
        "    if flag == True:\n",
        "      break\n",
        "\n",
        "print(\"test 1\")\n",
        "N = np.array([1,2,3,7,5])\n",
        "S = 12\n",
        "unsortedArray(N,S)\n",
        "\n",
        "print(\"test 2\")\n",
        "N = np.array([1,2,3,4,5,6,7,8,9,10])\n",
        "S = 15\n",
        "unsortedArray(N,S)"
      ],
      "metadata": {
        "colab": {
          "base_uri": "https://localhost:8080/"
        },
        "id": "pbCcV8NIxKCM",
        "outputId": "e61a4891-18ae-48d4-e686-a5bb24e3ade7"
      },
      "execution_count": null,
      "outputs": [
        {
          "output_type": "stream",
          "name": "stdout",
          "text": [
            "test 1\n",
            "Starting postion: 2 & Ending positon: 4\n",
            "test 2\n",
            "Starting postion: 1 & Ending positon: 5\n"
          ]
        }
      ]
    },
    {
      "cell_type": "code",
      "source": [
        "#Q4\n",
        "\n",
        "def frequency(arr, X):\n",
        "  count  = 0\n",
        "  for i in range(len(arr)):\n",
        "    if arr[i] == X:\n",
        "      count+=1\n",
        "  print(f\"The frequency of {X} is {count}\")\n",
        "\n",
        "arr = np.array([1,1,1,1,1,4,2,5,1])\n",
        "X = 1\n",
        "frequency(arr,X)"
      ],
      "metadata": {
        "colab": {
          "base_uri": "https://localhost:8080/"
        },
        "id": "izNEv1-IH2jR",
        "outputId": "0e698559-5a41-4d42-a8ba-fbfeaed0dd0b"
      },
      "execution_count": null,
      "outputs": [
        {
          "output_type": "stream",
          "name": "stdout",
          "text": [
            "The frequency of 1 is 6\n"
          ]
        }
      ]
    },
    {
      "cell_type": "code",
      "source": [
        "#Q5\n",
        "\n",
        "def smallestElement(arr,K):\n",
        "  for i in range(len(arr)):\n",
        "    temp = arr[i]\n",
        "    for j in range(i,len(arr)):\n",
        "      if arr[j] < temp:\n",
        "        arr[i] = arr[j]\n",
        "        arr[j] = temp\n",
        "        temp = arr[i]\n",
        "        #print(arr)\n",
        "\n",
        "  for i in range(len(arr)):\n",
        "    if i == K-1:\n",
        "      print(f\"{arr[i]} is the {K} no. smallest value in the array\")\n",
        "\n",
        "print(\"test 1\")\n",
        "arr = np.array([7, 10, 4, 3, 20, 15])\n",
        "K = int(input(\"Enter the value of K(Smaller than the length of Array): \"))\n",
        "smallestElement(arr,K)\n",
        "\n",
        "print(\"test 2\")\n",
        "arr = np.array([7, 10, 4, 20, 15])\n",
        "K = int(input(\"Enter the value of K(Smaller than the length of Array): \"))\n",
        "smallestElement(arr,K)"
      ],
      "metadata": {
        "id": "qQOd5DiOIgyF",
        "colab": {
          "base_uri": "https://localhost:8080/"
        },
        "outputId": "607984e9-fe46-4dd9-d254-9544b93ff07e"
      },
      "execution_count": null,
      "outputs": [
        {
          "output_type": "stream",
          "name": "stdout",
          "text": [
            "test 1\n",
            "Enter the value of K(Smaller than the length of Array): 5\n",
            "15 is the 5 no. smallest value in the array\n",
            "test 2\n",
            "Enter the value of K(Smaller than the length of Array): 5\n",
            "20 is the 5 no. smallest value in the array\n"
          ]
        }
      ]
    },
    {
      "cell_type": "code",
      "source": [
        "#Q6\n",
        "\n",
        "def ascendingOrder(arr):\n",
        "  for i in range(len(arr)):\n",
        "    temp = arr[i]\n",
        "    for j in range(i,len(arr)):\n",
        "      if arr[j] < temp:\n",
        "        arr[i] = arr[j]\n",
        "        arr[j] = temp\n",
        "        temp = arr[i]\n",
        "\n",
        "  for i in arr:\n",
        "    print(i,end=\" \")\n",
        "\n",
        "arr = np.array([0, 2, 1, 2, 0])\n",
        "ascendingOrder(arr)"
      ],
      "metadata": {
        "colab": {
          "base_uri": "https://localhost:8080/"
        },
        "id": "ocRBMDjRlCZo",
        "outputId": "0dae75e5-bc0a-49ab-ca52-19eb08489b36"
      },
      "execution_count": null,
      "outputs": [
        {
          "output_type": "stream",
          "name": "stdout",
          "text": [
            "0 0 1 2 2 "
          ]
        }
      ]
    },
    {
      "cell_type": "code",
      "source": [
        "#7\n",
        "def sum_diff(matrix):\n",
        "  row, col = matrix.shape\n",
        "  new = np.zeros(col,dtype=int)\n",
        "  idx = 0\n",
        "  sum = 0\n",
        "  for i in range(col):\n",
        "    for j in range(row):\n",
        "      for k in range(i,i+1):\n",
        "        sum += matrix[j][k]\n",
        "    new[idx] = sum\n",
        "    idx +=1\n",
        "    sum = 0\n",
        "  final = np.zeros(col-1,dtype=int)\n",
        "  for i in range(len(final)):\n",
        "    final[i] = new[i+1]-new[i]\n",
        "  return final\n",
        "\n",
        "arr = np.array([[1,3,1],\n",
        "                [6,4,2],\n",
        "                [5,1,7],\n",
        "                [9,3,3],\n",
        "                [8,5,4]])\n",
        "print(sum_diff(arr))"
      ],
      "metadata": {
        "colab": {
          "base_uri": "https://localhost:8080/"
        },
        "id": "hcLplHQGgnJV",
        "outputId": "aa53af01-39f9-4bb2-ea7a-d7dd134909af"
      },
      "execution_count": null,
      "outputs": [
        {
          "output_type": "stream",
          "name": "stdout",
          "text": [
            "[-13   1]\n"
          ]
        }
      ]
    },
    {
      "cell_type": "markdown",
      "source": [
        "#Linked List"
      ],
      "metadata": {
        "id": "tVg2ysIEJdKF"
      }
    },
    {
      "cell_type": "code",
      "source": [
        "#creating a Node\n",
        "import numpy as np\n",
        "class Node:\n",
        "  def __init__(self,elem,next = None):\n",
        "    self.elem, self.next = elem,next\n",
        "\n",
        "def createList(arr):\n",
        "  head = Node(arr[0])\n",
        "  tail = head\n",
        "  for i in range(1,len(arr)):\n",
        "    new = Node(arr[i])\n",
        "    tail.next = new\n",
        "    tail = new\n",
        "  return head\n",
        "\n",
        "def printLinkedList(head):\n",
        "  temp = head\n",
        "  while temp!= None:\n",
        "    if temp.next!=None:\n",
        "      print(temp.elem,end=\"->\")\n",
        "    else:\n",
        "      print(temp.elem)\n",
        "    temp = temp.next\n",
        "\n",
        "def count(head):\n",
        "  c = 0\n",
        "  temp = head\n",
        "  while temp!= None:\n",
        "    c+=1\n",
        "    temp = temp.next\n",
        "  return c\n",
        "\n",
        "def NodeAt(head, idx):\n",
        "  c = 0\n",
        "  temp = head\n",
        "  while temp != None:\n",
        "    if c == idx:\n",
        "      return temp.elem\n",
        "      break\n",
        "    else:\n",
        "      temp = temp.next\n",
        "    c +=1\n",
        "\n",
        "def sett(head, idx, elem):\n",
        "  temp = head\n",
        "  c = 0\n",
        "  flag = False\n",
        "  while temp != None:\n",
        "    if c == idx:\n",
        "      temp.elem = elem\n",
        "      flag = True\n",
        "      break\n",
        "    temp = temp.next\n",
        "    c +=1\n",
        "  if flag == False:\n",
        "    return \"Not updated\"\n",
        "  else:\n",
        "    return \"updated\"\n",
        "\n",
        "#searching an element\n",
        "def index_of(head, elem):\n",
        "  flag = False\n",
        "  c = 0\n",
        "  temp = head\n",
        "  while temp!= None:\n",
        "    if temp.elem == elem:\n",
        "      flag = True\n",
        "      break\n",
        "    temp = temp.next\n",
        "    c+=1\n",
        "\n",
        "  if flag == True:\n",
        "    return c\n",
        "  else:\n",
        "    return \"Doeen't exist in the list\"\n",
        "\n",
        "#inserting\n",
        "def insert(head,elem,idx):\n",
        "  total_count = count(head)\n",
        "  if idx == 0:\n",
        "    new = Node(elem, head)\n",
        "    head = new\n",
        "  elif  0<idx <total_count:\n",
        "    head = head.next\n",
        "    print(head.elem)\n",
        "    c = 1\n",
        "    while head!=None:\n",
        "      if c == idx-1:\n",
        "        temp = head.next\n",
        "        new = Node(elem)\n",
        "        head.next = new\n",
        "        new.next = temp\n",
        "      c+=1\n",
        "      head = head.next\n",
        "  else:\n",
        "    print(\"invalid\")\n",
        "  printLinkedList(head)\n",
        "\n",
        "#removing\n",
        "def remove(head,idx):\n",
        "  if idx == 0:\n",
        "    new = Node(head.next.elem, head.next.next)\n",
        "    head = new\n",
        "  elif 0 < idx < count(head):\n",
        "    #printLinkedList(head)\n",
        "    head = head.next\n",
        "    c = 1\n",
        "    while head != None:\n",
        "      if c == idx-1:\n",
        "        new = Node(head.next.next.elem)\n",
        "        new.next = head.next.next.next\n",
        "        head.next = new\n",
        "        break\n",
        "      c+=1\n",
        "      head = head.next\n",
        "  else:\n",
        "    return \"Invalid\"\n",
        "  return head\n",
        "  # printLinkedList(head)\n",
        "\n",
        "#copy\n",
        "def copy_list(source):\n",
        "  copy_head = None\n",
        "  copy_tail = None\n",
        "  temp = source\n",
        "  while temp != None:\n",
        "    new = Node(temp.elem)\n",
        "    if copy_head == None:\n",
        "      copy_head = new\n",
        "      copy_tail = copy_head\n",
        "    else:\n",
        "      copy_tail.next = new\n",
        "      copy_tail = copy_tail.next\n",
        "    temp = temp.next\n",
        "  return copy_head\n",
        "\n",
        "#reverse(out_of_place)\n",
        "def reverse_out_of_place(head):\n",
        "  #printLinkedList(head)\n",
        "  new_head = Node(head.elem)\n",
        "  temp = head.next\n",
        "  while temp!= None:\n",
        "    new = Node(temp.elem, new_head)\n",
        "    new_head = new\n",
        "    temp = temp.next\n",
        "  #printLinkedList(head)\n",
        "  return new_head\n",
        "\n",
        "#reverse_in_place\n",
        "def reverse_in_place(head):\n",
        "  new_head = None\n",
        "  temp = head\n",
        "  while temp != None:\n",
        "    new = temp.next\n",
        "    temp.next = new_head\n",
        "    new_head = temp\n",
        "    temp = new\n",
        "  return new_head\n",
        "\n",
        "n1 = createList(np.array([1,2,3,4,5]))\n",
        "n2 = createList(np.array([5,6,7,8,9]))\n",
        "printLinkedList(n1)\n",
        "print(\"--------------------------------\")\n",
        "print(\"The count of the list is: \")\n",
        "print(count(n1))\n",
        "print(\"--------------------------------\")\n",
        "print(NodeAt(n1, 2))\n",
        "print(\"--------------------------------\")\n",
        "print(sett(n1,1,6))\n",
        "printLinkedList(n1)\n",
        "print(\"--------------------------------\")\n",
        "\n",
        "\n",
        "\n",
        "n1 = createList(np.array([1,2,3,4,5]))\n",
        "n2 = createList(np.array([5,6,7,8,9]))\n",
        "printLinkedList(n1)\n",
        "print(\"-------------------------------\")\n",
        "print(index_of(n1,0))\n",
        "print(index_of(n1,4))\n",
        "print(\"-------------------------------\")\n",
        "insert(n1,6,0)\n",
        "print(\"-------------------------------\")\n",
        "insert(n1,6,2)\n",
        "printLinkedList(n1)\n",
        "print(\"-------------------------------\")\n",
        "insert(n1,10,4)\n",
        "printLinkedList(n1)\n",
        "print(\"-------------------------------\")\n",
        "printLinkedList(remove(n2,0))\n",
        "#printLinkedList(n2)\n",
        "print(\"-------------------------------\")\n",
        "printLinkedList(n1)\n",
        "printLinkedList(remove(n1,2))\n",
        "printLinkedList(n1)\n",
        "print(\"-------------------------------\")\n",
        "printLinkedList(remove(n1,3))\n",
        "printLinkedList(n1)\n",
        "\n",
        "print(\"-------------------------------\")\n",
        "n1 = createList(np.array([1,2,3,4,5]))\n",
        "n2 = createList(np.array([5,6,7,8,9]))\n",
        "printLinkedList(n1)\n",
        "print(\"-------------------------------\")\n",
        "print(\"copy of list 1:\")\n",
        "printLinkedList(copy_list(n1))\n",
        "print(\"copy of list 2:\")\n",
        "printLinkedList(copy_list(n2))\n",
        "print(\"-------------------------------\")\n",
        "print(\"reverse of list 1:\")\n",
        "printLinkedList(reverse_out_of_place(n1))\n",
        "print(\"-------------------------------\")\n",
        "print(\"reverse of list 1:\")\n",
        "printLinkedList(reverse_in_place(n1))"
      ],
      "metadata": {
        "colab": {
          "base_uri": "https://localhost:8080/"
        },
        "id": "omUq0UhOJcp_",
        "outputId": "92e3dd60-982c-4eb4-e30e-9af7a0b1bec3"
      },
      "execution_count": null,
      "outputs": [
        {
          "output_type": "stream",
          "name": "stdout",
          "text": [
            "1->2->3->4->5\n",
            "--------------------------------\n",
            "The count of the list is: \n",
            "5\n",
            "--------------------------------\n",
            "3\n",
            "--------------------------------\n",
            "updated\n",
            "1->6->3->4->5\n",
            "--------------------------------\n",
            "1->2->3->4->5\n",
            "-------------------------------\n",
            "Doeen't exist in the list\n",
            "3\n",
            "-------------------------------\n",
            "6->1->2->3->4->5\n",
            "-------------------------------\n",
            "2\n",
            "1->2->6->3->4->5\n",
            "-------------------------------\n",
            "2\n",
            "1->2->6->3->10->4->5\n",
            "-------------------------------\n",
            "6->7->8->9\n",
            "-------------------------------\n",
            "1->2->6->3->10->4->5\n",
            "2->3->10->4->5\n",
            "1->2->3->10->4->5\n",
            "-------------------------------\n",
            "3->4->5\n",
            "1->2->3->4->5\n",
            "-------------------------------\n",
            "1->2->3->4->5\n",
            "-------------------------------\n",
            "copy of list 1:\n",
            "1->2->3->4->5\n",
            "copy of list 2:\n",
            "5->6->7->8->9\n",
            "-------------------------------\n",
            "reverse of list 1:\n",
            "5->4->3->2->1\n",
            "-------------------------------\n",
            "reverse of list 1:\n",
            "5->4->3->2->1\n"
          ]
        }
      ]
    },
    {
      "cell_type": "code",
      "source": [
        "#bonus\n",
        "def printLinkedList(head):\n",
        "  temp = head\n",
        "  while temp != None:\n",
        "    if temp.next != None:\n",
        "      print(temp.elem, end = '->')\n",
        "    else:\n",
        "      print(temp.elem)\n",
        "    temp = temp.next\n",
        "  print()\n",
        "\n",
        "\n",
        "def idGenerator(head1, head2, head3):\n",
        "  temp1 = head1\n",
        "  tail = head1\n",
        "  temp = None\n",
        "  count = 0\n",
        "  while tail:\n",
        "    new = Node(tail.elem, temp)\n",
        "    temp = new\n",
        "    count += 1\n",
        "    tail = tail.next\n",
        "\n",
        "  temp2 = head2\n",
        "  temp3 = head3\n",
        "  while temp2 and temp3:\n",
        "    if temp2.elem + temp3.elem <10:\n",
        "      temp2.elem += temp3.elem\n",
        "    elif temp2.elem + temp3.elem >= 10:\n",
        "      temp2.elem = (temp2.elem + temp3.elem)%10\n",
        "    temp2 = temp2.next\n",
        "    temp3 = temp3.next\n",
        "\n",
        "  i = 0\n",
        "  t = temp\n",
        "  while i<count:\n",
        "    if i == count-1:\n",
        "      t.next = head2\n",
        "      break\n",
        "    i += 1\n",
        "    t = t.next\n",
        "  return temp\n",
        "print('==============Test Case 1=============')\n",
        "head1 = createList(np.array([0,3,2,2]))\n",
        "head2 = createList(np.array([5,2,2,1]))\n",
        "head3 = createList(np.array([4,3,2,1]))\n",
        "\n",
        "print(\"Linked List 1:\")\n",
        "printLinkedList(head1)\n",
        "print(\"Linked List 2:\")\n",
        "printLinkedList(head2)\n",
        "print(\"Linked List 3:\")\n",
        "printLinkedList(head3)\n",
        "\n",
        "result = idGenerator(head1, head2, head3)\n",
        "print(\"New ID:\")\n",
        "printLinkedList(result)    #This should print  2 → 2 → 3 → 0 → 9 → 5 → 4 → 2\n",
        "\n",
        "\n",
        "print('==============Test Case 2=============')\n",
        "head1 = createList(np.array([0,3,9,1]))\n",
        "head2 = createList(np.array([3,6,5,7]))\n",
        "head3 = createList(np.array([2,4,3,8]))\n",
        "\n",
        "print(\"Linked List 1:\")\n",
        "printLinkedList(head1)\n",
        "print(\"Linked List 2:\")\n",
        "printLinkedList(head2)\n",
        "print(\"Linked List 3:\")\n",
        "printLinkedList(head3)\n",
        "\n",
        "result = idGenerator(head1, head2, head3)\n",
        "print(\"New ID:\")\n",
        "printLinkedList(result)    #This should print 1 → 9 → 3 → 0 → 5 → 0 → 8 → 5"
      ],
      "metadata": {
        "colab": {
          "base_uri": "https://localhost:8080/"
        },
        "id": "APSvFTL812pe",
        "outputId": "8b3b420a-f0e5-4f35-8052-62274ee7f3a1"
      },
      "execution_count": null,
      "outputs": [
        {
          "output_type": "stream",
          "name": "stdout",
          "text": [
            "==============Test Case 1=============\n",
            "Linked List 1:\n",
            "0->3->2->2\n",
            "\n",
            "Linked List 2:\n",
            "5->2->2->1\n",
            "\n",
            "Linked List 3:\n",
            "4->3->2->1\n",
            "\n",
            "New ID:\n",
            "2->2->3->0->9->5->4->2\n",
            "\n",
            "==============Test Case 2=============\n",
            "Linked List 1:\n",
            "0->3->9->1\n",
            "\n",
            "Linked List 2:\n",
            "3->6->5->7\n",
            "\n",
            "Linked List 3:\n",
            "2->4->3->8\n",
            "\n",
            "New ID:\n",
            "1->9->3->0->5->0->8->5\n",
            "\n"
          ]
        }
      ]
    },
    {
      "cell_type": "code",
      "source": [
        "def left_rotate(head):\n",
        "  Tail = Node(head.elem)\n",
        "  New_head = head.next\n",
        "  temp = head\n",
        "  Count = 0\n",
        "  Temp = New_head\n",
        "  while Temp!=None:\n",
        "    Count+=1\n",
        "    Temp = Temp.next\n",
        "  i = 0\n",
        "  t = New_head\n",
        "  while i<Count:\n",
        "    if i==Count-1:\n",
        "      t.next = Tail\n",
        "    i+=1\n",
        "    t = t.next\n",
        "  return New_head\n",
        "  #printLinkedList(New_head)\n",
        "h = createList(np.array([1,2,3,4,5]))\n",
        "printLinkedList(left_rotate(h))"
      ],
      "metadata": {
        "colab": {
          "base_uri": "https://localhost:8080/"
        },
        "id": "Sbmakdzf2V-3",
        "outputId": "76ced65f-85d9-4d01-924d-9c62a72fe879"
      },
      "execution_count": null,
      "outputs": [
        {
          "output_type": "stream",
          "name": "stdout",
          "text": [
            "2->3->4->5->1\n",
            "\n"
          ]
        }
      ]
    },
    {
      "cell_type": "code",
      "source": [
        "#Task 4: Word Decoder\n",
        "\n",
        "def printLinkedList(head):\n",
        "  temp = head\n",
        "  while temp != None:\n",
        "    if temp.next != None:\n",
        "      print(temp.elem, end = '->')\n",
        "    else:\n",
        "      print(temp.elem)\n",
        "    temp = temp.next\n",
        "  print()\n",
        "\n",
        "def word_Decoder(head):\n",
        "  count  = 0\n",
        "  temp = head\n",
        "  while temp != None:\n",
        "    count += 1\n",
        "    temp = temp.next\n",
        "\n",
        "  x = 13 % count\n",
        "  # for i in range(x, count, x):\n",
        "  #     new = Node()\n",
        "\n",
        "  tail = head.next\n",
        "  temp_head = None\n",
        "  i = 1\n",
        "  while tail!= None:\n",
        "    if i%x == 0:\n",
        "      new = Node(tail.elem, temp_head)\n",
        "      temp_head = new\n",
        "    i += 1\n",
        "    tail = tail.next\n",
        "  reverse_list = Node(None, temp_head)\n",
        "  return reverse_list\n",
        "\n",
        "#Driver Code\n",
        "print('==============Test Case 1=============')\n",
        "head = createList(np.array(['B', 'M', 'D', 'T', 'N', 'O', 'A', 'P', 'S', 'C']))\n",
        "print(\"Encoded Word:\")\n",
        "printLinkedList(head) #This should print B→M→D→T→N→O→A→P→S→C\n",
        "\n",
        "result = word_Decoder(head)\n",
        "print(\"Decoded Word:\")\n",
        "printLinkedList(result)    #This should print None→C→A→T\n",
        "\n",
        "print('==============Test Case 2=============')\n",
        "\n",
        "head = createList(np.array(['Z', 'O', 'T', 'N', 'X']))\n",
        "print(\"Encoded Word:\")\n",
        "printLinkedList(head) #This should print Z→O→T→N→X\n",
        "\n",
        "result = word_Decoder(head)\n",
        "print(\"Decoded Word:\")\n",
        "printLinkedList(result)    #This should print None→N\n",
        "\n"
      ],
      "metadata": {
        "colab": {
          "base_uri": "https://localhost:8080/"
        },
        "id": "W8cQ2o9h_qym",
        "outputId": "ba40073c-539e-44d7-cc67-d70f770b4a34"
      },
      "execution_count": null,
      "outputs": [
        {
          "output_type": "stream",
          "name": "stdout",
          "text": [
            "==============Test Case 1=============\n",
            "Encoded Word:\n",
            "B->M->D->T->N->O->A->P->S->C\n",
            "\n",
            "Decoded Word:\n",
            "None->C->A->T\n",
            "\n",
            "==============Test Case 2=============\n",
            "Encoded Word:\n",
            "Z->O->T->N->X\n",
            "\n",
            "Decoded Word:\n",
            "None->N\n",
            "\n"
          ]
        }
      ]
    },
    {
      "cell_type": "markdown",
      "source": [
        "#Linked List Practise"
      ],
      "metadata": {
        "id": "Ukc7Ax7GweV_"
      }
    },
    {
      "cell_type": "code",
      "source": [
        "#1\n",
        "def right_rotate(head):\n",
        "  n = head\n",
        "  while n.next.next!=None:\n",
        "    n = n.next\n",
        "  store = n.next\n",
        "  n.next = None\n",
        "  store.next = head\n",
        "  return store\n",
        "\n",
        "head = createList(np.array([1,2,3,4,5]))\n",
        "printLinkedList(right_rotate(head))"
      ],
      "metadata": {
        "colab": {
          "base_uri": "https://localhost:8080/"
        },
        "id": "anfEIxp2CV-6",
        "outputId": "2ee46ca5-ffcd-4bb9-e2f7-c5bd9a959f77"
      },
      "execution_count": null,
      "outputs": [
        {
          "output_type": "stream",
          "name": "stdout",
          "text": [
            "5->1->2->3->4\n",
            "\n"
          ]
        }
      ]
    },
    {
      "cell_type": "code",
      "source": [
        "#2\n",
        "def left_rotate(head):\n",
        "  h = Node(head.elem)\n",
        "  temp = head.next\n",
        "  while temp.next!=None:\n",
        "    temp = temp.next\n",
        "  temp.next = h\n",
        "  head = head.next\n",
        "  return head\n",
        "\n",
        "h = createList(np.array([1,2,3,4,5]))\n",
        "printLinkedList(left_rotate(h))"
      ],
      "metadata": {
        "colab": {
          "base_uri": "https://localhost:8080/"
        },
        "id": "jXddoGjdEgQ0",
        "outputId": "340628fc-efc4-494f-83eb-a4307e78358c"
      },
      "execution_count": null,
      "outputs": [
        {
          "output_type": "stream",
          "name": "stdout",
          "text": [
            "2->3->4->5->1\n",
            "\n"
          ]
        }
      ]
    },
    {
      "cell_type": "code",
      "source": [
        "#3\n",
        "def common(h1,h2):\n",
        "  t1 = h1\n",
        "  t2 = h2\n",
        "  new = None\n",
        "  c = count(h1)\n",
        "  i = 0\n",
        "  while t1!=None and t2!=None:\n",
        "    if t1.elem == t2.elem:\n",
        "      if i == c-1:\n",
        "        t2.next = None\n",
        "      t2 = t2.next\n",
        "    i+=1\n",
        "    t1 = t1.next\n",
        "  return h2\n",
        "\n",
        "h1 = createList(np.array([1,2,3,4,6]))\n",
        "h2 = createList(np.array([2,4,6,8]))\n",
        "printLinkedList(common(h1,h2))"
      ],
      "metadata": {
        "colab": {
          "base_uri": "https://localhost:8080/"
        },
        "id": "ubvlU1vsFe0z",
        "outputId": "96134827-3b79-46e6-923f-1339a2e9cd56"
      },
      "execution_count": null,
      "outputs": [
        {
          "output_type": "stream",
          "name": "stdout",
          "text": [
            "2->4->6\n",
            "\n"
          ]
        }
      ]
    },
    {
      "cell_type": "code",
      "source": [
        "#4\n",
        "def even_modifier(head):\n",
        "  current = head\n",
        "  even_head = Node(None)\n",
        "  odd_head = Node(None)\n",
        "  tail1 = even_head\n",
        "  tail2 = odd_head\n",
        "  while current:\n",
        "    if current.elem%2 == 0:\n",
        "      tail1.next = Node(current.elem,None)\n",
        "      tail1 = tail1.next\n",
        "    else:\n",
        "      tail2.next = Node(current.elem, None)\n",
        "      tail2 = tail2.next\n",
        "    current = current.next\n",
        "\n",
        "  even_head = even_head.next\n",
        "  odd_head = odd_head.next\n",
        "  temp = even_head\n",
        "  while temp:\n",
        "    if temp.next == None:\n",
        "      temp.next = odd_head\n",
        "      break\n",
        "    temp = temp.next\n",
        "  printLinkedList(even_head)\n",
        "\n",
        "h = createList(np.array([17,15,8,12,10,5,4,1,7,6]))\n",
        "printLinkedList(even_modifier(h))"
      ],
      "metadata": {
        "colab": {
          "base_uri": "https://localhost:8080/"
        },
        "id": "kFvAzzcHLCkm",
        "outputId": "2a85f67c-d3c0-4d45-eb98-b968ba857d70"
      },
      "execution_count": null,
      "outputs": [
        {
          "output_type": "stream",
          "name": "stdout",
          "text": [
            "8->12->10->4->6->17->15->5->1->7\n",
            "\n",
            "\n"
          ]
        }
      ]
    },
    {
      "cell_type": "code",
      "source": [
        "#5\n",
        "def replace(head,idx):\n",
        "  h = head\n",
        "  i = 0\n",
        "  c = count(head)\n",
        "  while h!= None:\n",
        "    if i == c-idx:\n",
        "      i = h.elem\n",
        "      break\n",
        "    i+=1\n",
        "    h = h.next\n",
        "  return i\n",
        "\n",
        "h1 = createList(np.array([10,20,30,40,50]))\n",
        "print(replace(h1,2))\n",
        "print(\"-----------------------------------\")\n",
        "h2 = createList(np.array([35,15,4,20,45]))\n",
        "print(replace(h2,4))"
      ],
      "metadata": {
        "colab": {
          "base_uri": "https://localhost:8080/"
        },
        "id": "7LYCOCYPXMMf",
        "outputId": "95ef1dcb-f612-4688-f93b-6287504c00a6"
      },
      "execution_count": null,
      "outputs": [
        {
          "output_type": "stream",
          "name": "stdout",
          "text": [
            "40\n",
            "-----------------------------------\n",
            "15\n"
          ]
        }
      ]
    },
    {
      "cell_type": "code",
      "source": [
        "#6\n",
        "def find_middle(head):\n",
        "  c = count(head)\n",
        "  h = head\n",
        "  i = 0\n",
        "  while h !=None:\n",
        "    if i == c//2:\n",
        "      i = h.elem\n",
        "      break\n",
        "    i +=1\n",
        "    h = h.next\n",
        "  return i\n",
        "\n",
        "h1 = createList(np.array([10,20,30,40,50]))\n",
        "print(\"The middle element is: \")\n",
        "print(find_middle(h1))\n",
        "print(\"-----------------------------------\")\n",
        "h2 = createList(np.array([1,2,3,4,5,6]))\n",
        "print(\"The middle element is: \")\n",
        "print(find_middle(h2))"
      ],
      "metadata": {
        "colab": {
          "base_uri": "https://localhost:8080/"
        },
        "id": "pWBqV4kkX4wC",
        "outputId": "6b9b0544-5376-483b-d7b4-a5f0ae837984"
      },
      "execution_count": null,
      "outputs": [
        {
          "output_type": "stream",
          "name": "stdout",
          "text": [
            "The middle element is: \n",
            "30\n",
            "-----------------------------------\n",
            "The middle element is: \n",
            "4\n"
          ]
        }
      ]
    },
    {
      "cell_type": "code",
      "source": [
        "#7\n",
        "def palindrome_checker(head):\n",
        "  new_head = Node(head.elem)\n",
        "  temp = head.next\n",
        "  while temp:\n",
        "    new = Node(temp.elem,new_head)\n",
        "    new_head = new\n",
        "    temp = temp.next\n",
        "  print(\"Original list: \",end=\"\")\n",
        "  printLinkedList(head)\n",
        "  print(\"reversed list: \",end=\"\")\n",
        "  printLinkedList(new_head)\n",
        "  flag = True\n",
        "  h = head\n",
        "  while h and new_head:\n",
        "    if h.elem!=new_head.elem:\n",
        "      flag =False\n",
        "      break\n",
        "    h = h.next\n",
        "    new_head = new_head.next\n",
        "\n",
        "  if flag == True:\n",
        "    return \"Palindrome\"\n",
        "  else:\n",
        "    return \"Not a Palindrome\"\n",
        "\n",
        "h1 = createList(np.array([1,2,3,2,1]))\n",
        "print(palindrome_checker(h1))\n",
        "print(\"------------------------------\")\n",
        "h2 = createList(np.array([5,4,3,4,1,]))\n",
        "print(palindrome_checker(h2))"
      ],
      "metadata": {
        "colab": {
          "base_uri": "https://localhost:8080/"
        },
        "id": "yL1whljCZQp0",
        "outputId": "3be9a46a-d825-41db-fb89-1c9674a61b1c"
      },
      "execution_count": null,
      "outputs": [
        {
          "output_type": "stream",
          "name": "stdout",
          "text": [
            "Original list: 1->2->3->2->1\n",
            "\n",
            "reversed list: 1->2->3->2->1\n",
            "\n",
            "Palindrome\n",
            "------------------------------\n",
            "Original list: 5->4->3->4->1\n",
            "\n",
            "reversed list: 1->4->3->4->5\n",
            "\n",
            "Not a Palindrome\n"
          ]
        }
      ]
    },
    {
      "cell_type": "code",
      "source": [
        "#8\n",
        "def remove_node(head):\n",
        "  n = head\n",
        "  while n!=None:\n",
        "    b = n.next\n",
        "    if b == None:\n",
        "      break\n",
        "    n.next = b.next\n",
        "    b.next = None\n",
        "    n = n.next\n",
        "  printLinkedList(head)\n",
        "\n",
        "h1 = createList(np.array([10,20,30,40,50]))\n",
        "remove_node(h1)"
      ],
      "metadata": {
        "colab": {
          "base_uri": "https://localhost:8080/"
        },
        "id": "O3Cy6RNAFcoG",
        "outputId": "41cc58d1-92e6-4814-8a88-350726680504"
      },
      "execution_count": null,
      "outputs": [
        {
          "output_type": "stream",
          "name": "stdout",
          "text": [
            "10->30->50\n"
          ]
        }
      ]
    },
    {
      "cell_type": "code",
      "source": [
        "#9\n",
        "def check_similar(h1,h2):\n",
        "  t1 = h1\n",
        "  t2 = h2\n",
        "  flag = True\n",
        "  while t1 and t2:\n",
        "    if t1.elem != t2.elem:\n",
        "      flag = False\n",
        "      break\n",
        "    t1 = t1.next\n",
        "    t2 = t2.next\n",
        "  return flag\n",
        "\n",
        "h1 = createList(np.array([10,20,30,40,50]))\n",
        "h2 = createList(np.array([10,20,30,40,50]))\n",
        "print(check_similar(h1,h2))\n",
        "print(\"====================================\")\n",
        "h1 = createList(np.array([10,20,30,40,50]))\n",
        "h2 = createList(np.array([10,20,30,60,50]))\n",
        "print(check_similar(h1,h2))"
      ],
      "metadata": {
        "colab": {
          "base_uri": "https://localhost:8080/"
        },
        "id": "hVYeWt49JkMF",
        "outputId": "62d6ad2a-aacc-4bd5-ada8-b5776285ef2c"
      },
      "execution_count": null,
      "outputs": [
        {
          "output_type": "stream",
          "name": "stdout",
          "text": [
            "True\n",
            "====================================\n",
            "False\n"
          ]
        }
      ]
    },
    {
      "cell_type": "code",
      "source": [
        "#10\n",
        "def swap_nodes(head,idx):  #only for odd length list\n",
        "  h = head\n",
        "  i = 1\n",
        "  c = count(head)\n",
        "  node1 = None\n",
        "  while h!=None:\n",
        "    if i == idx-1:\n",
        "      a = h.next\n",
        "      h.next = a.next\n",
        "      node1 = Node(a.elem)\n",
        "    i +=1\n",
        "    h = h.next\n",
        "\n",
        "  i = 0\n",
        "  h = head\n",
        "  node2 = None\n",
        "  while h:\n",
        "    if i == idx-1:\n",
        "      b = h.next\n",
        "      d = b.next\n",
        "      h.next = node1\n",
        "      h.next.next = d\n",
        "      node2 = Node(b.elem)\n",
        "    i +=1\n",
        "    h = h.next\n",
        "\n",
        "  i = 1\n",
        "  h = head\n",
        "  while h:\n",
        "    if i == idx-1:\n",
        "      temp = h.next\n",
        "      h.next = node2\n",
        "      h.next.next = temp\n",
        "    i +=1\n",
        "    h = h.next\n",
        "\n",
        "  printLinkedList(head)\n",
        "\n",
        "\n",
        "h1 = createList(np.array([10,20,30,40,50]))\n",
        "print(\"original list:\")\n",
        "printLinkedList(h1)\n",
        "swap_nodes(h1,2)\n",
        "print(\"------------------------------------\")\n",
        "h2 = createList(np.array([1,7,4,5,6]))\n",
        "print(\"original list:\")\n",
        "printLinkedList(h2)\n",
        "swap_nodes(h2,2)"
      ],
      "metadata": {
        "colab": {
          "base_uri": "https://localhost:8080/"
        },
        "id": "QTxhneweK74n",
        "outputId": "6b4da595-7079-46e0-e618-18d1961b632d"
      },
      "execution_count": null,
      "outputs": [
        {
          "output_type": "stream",
          "name": "stdout",
          "text": [
            "original list:\n",
            "10->20->30->40->50\n",
            "\n",
            "10->40->30->20->50\n",
            "\n",
            "------------------------------------\n",
            "original list:\n",
            "1->7->4->5->6\n",
            "\n",
            "1->5->4->7->6\n",
            "\n"
          ]
        }
      ]
    },
    {
      "cell_type": "code",
      "source": [
        "#mid spring 24\n",
        "def IsSumPossible(head,n):\n",
        "  flag = False\n",
        "  h = head\n",
        "  while h:\n",
        "    if h.next != None:\n",
        "      if h.elem + h.next.elem == n:\n",
        "        flag = True\n",
        "        break\n",
        "    h = h.next\n",
        "  print(flag)\n",
        "\n",
        "h = createList(np.array([1,2,3,4,5]))\n",
        "IsSumPossible(h,7)\n",
        "print(\"==============================\")\n",
        "h = createList(np.array([1,2,4,5,6]))\n",
        "IsSumPossible(h,4)\n",
        "print(\"==============================\")\n",
        "h = createList(np.array([5]))\n",
        "IsSumPossible(h,5)"
      ],
      "metadata": {
        "colab": {
          "base_uri": "https://localhost:8080/"
        },
        "id": "O1tmucHNfSZQ",
        "outputId": "d8c85f97-9dfa-461d-c1e7-22c13957d561"
      },
      "execution_count": null,
      "outputs": [
        {
          "output_type": "stream",
          "name": "stdout",
          "text": [
            "True\n",
            "==============================\n",
            "False\n",
            "==============================\n",
            "False\n"
          ]
        }
      ]
    },
    {
      "cell_type": "markdown",
      "source": [
        "#Doubly Linked list"
      ],
      "metadata": {
        "id": "a8bDA4BoUc3R"
      }
    },
    {
      "cell_type": "code",
      "source": [
        "import numpy as np\n",
        "\n",
        "class DoublyNode:   #non dummy head doubly circular linked list\n",
        "  def __init__(self, elem, next = None, prev = None):\n",
        "    self.elem = elem\n",
        "    self.next = next\n",
        "    self.prev = prev\n",
        "\n",
        "def createList(arr):\n",
        "  head = DoublyNode(arr[0],None,None)\n",
        "  head.next = head\n",
        "  tail = head\n",
        "  for i in range(1,len(arr)):\n",
        "    new = DoublyNode(arr[i],head,tail)\n",
        "    tail.next = new\n",
        "    tail = tail.next\n",
        "    head.prev = tail\n",
        "  return head\n",
        "\n",
        "def printLinkedList(head):\n",
        "  h = head\n",
        "  last = head.prev\n",
        "  i = 0\n",
        "  while h!=last:\n",
        "    if i == 0:\n",
        "      last = head\n",
        "    if h.next!=last:\n",
        "      print(h.elem,end=\"->\")\n",
        "    else:\n",
        "      print(h.elem)\n",
        "    i +=1\n",
        "    h = h.next\n",
        "\n",
        "def ReversePrint(head):\n",
        "  t = head.prev\n",
        "  last = head\n",
        "  i = 0\n",
        "  while t!= last:\n",
        "    if i == 0:\n",
        "      last = last.prev\n",
        "    if t.prev!=last:\n",
        "      print(t.elem,end=\"->\")\n",
        "    else:\n",
        "      print(t.elem)\n",
        "    i+=1\n",
        "    t =t.prev\n",
        "\n",
        "arr = ([1,2,3,4,5])\n",
        "h = createList(arr)\n",
        "printLinkedList(h)\n",
        "print(\"========================================\")\n",
        "ReversePrint(h)"
      ],
      "metadata": {
        "colab": {
          "base_uri": "https://localhost:8080/"
        },
        "id": "7yUrkw8rbIvD",
        "outputId": "cf538eda-6272-4fef-f7f2-a0d19bd2b050"
      },
      "execution_count": null,
      "outputs": [
        {
          "output_type": "stream",
          "name": "stdout",
          "text": [
            "1->2->3->4->5\n",
            "========================================\n",
            "5->4->3->2->1\n"
          ]
        }
      ]
    },
    {
      "cell_type": "code",
      "source": [
        "import numpy as np\n",
        "\n",
        "class DoublyNode:   #dummy head doubly circular linked list\n",
        "  def __init__(self, elem, next = None, prev = None):\n",
        "    self.elem = elem\n",
        "    self.next = next\n",
        "    self.prev = prev\n",
        "\n",
        "def createList(arr):\n",
        "  head = DoublyNode(None,None,None)\n",
        "  head.next = head\n",
        "  head.prev = head\n",
        "  tail = head\n",
        "  for i in range(len(arr)):\n",
        "    new = DoublyNode(arr[i],head,tail)\n",
        "    tail.next = new\n",
        "    tail = tail.next\n",
        "    head.prev = tail\n",
        "  return head\n",
        "\n",
        "def printLinkedList(head):\n",
        "  h = head.next\n",
        "  while h!=head:\n",
        "    if h.next!=head:\n",
        "      print(h.elem,end=\"->\")\n",
        "    else:\n",
        "      print(h.elem)\n",
        "    h = h.next\n",
        "\n",
        "arr = ([1,2,3,4,5])\n",
        "h = createList(arr)\n",
        "printLinkedList(h)"
      ],
      "metadata": {
        "colab": {
          "base_uri": "https://localhost:8080/"
        },
        "id": "of6CIgsLUWHm",
        "outputId": "1892b146-9c96-4c63-8a3f-c25087092009"
      },
      "execution_count": null,
      "outputs": [
        {
          "output_type": "stream",
          "name": "stdout",
          "text": [
            "1->2->3->4->5\n"
          ]
        }
      ]
    },
    {
      "cell_type": "markdown",
      "source": [
        "#Stack and Queue"
      ],
      "metadata": {
        "id": "IXgOMl1eUFPR"
      }
    },
    {
      "cell_type": "code",
      "source": [
        "class Node:\n",
        "  def __init__(self,elem=None,next=None):\n",
        "    self.elem = elem\n",
        "    self.next = next\n",
        "\n",
        "class Stack:\n",
        "  def __init__(self):\n",
        "    self.__top = None\n",
        "\n",
        "  def push(self,elem):\n",
        "    nn = Node(elem,self.__top)\n",
        "    self.__top = nn\n",
        "\n",
        "  def pop(self):\n",
        "    if self.__top == None:\n",
        "      #print('Stack Underflow')\n",
        "      return None\n",
        "    e = self.__top\n",
        "    self.__top = self.__top.next\n",
        "    return e.elem\n",
        "\n",
        "  def peek(self):\n",
        "    if self.__top == None:\n",
        "      #print('Stack Underflow')\n",
        "      return None\n",
        "    return self.__top.elem\n",
        "\n",
        "  def isEmpty(self):\n",
        "    return self.__top == None\n",
        "\n",
        "\n",
        "class Queue: # linked list based\n",
        "  def __init__(self):\n",
        "    self.front = None\n",
        "    self.back = None\n",
        "\n",
        "  def enqueue(self, elem):\n",
        "    n = Node(elem)\n",
        "    if self.front == None: # checking if queue is empty\n",
        "      self.front = n\n",
        "      self.back = n\n",
        "    else:\n",
        "      self.back.next = n # creating connection\n",
        "      self.back = n # self.back = self.back.next\n",
        "\n",
        "  def dequeue(self):\n",
        "    if self.front == None:\n",
        "      return None # print (\"Underflow\")\n",
        "    else:\n",
        "      removed = self.front\n",
        "      self.front = self.front.next\n",
        "      removed.next = None\n",
        "      return removed\n",
        "\n",
        "  def peek(self):\n",
        "    if self.front == None:\n",
        "      return None\n",
        "    else:\n",
        "      return self.front.elem\n",
        "\n",
        "class ArrQueue:\n",
        "  def __init__(self, q):\n",
        "    self.queue = q\n",
        "    self.front = 0\n",
        "    self.back = 0\n",
        "    self.size = len(self.queue)\n",
        "\n",
        "  def enqueue(self, elem):\n",
        "    if self.size == len(self.queue):\n",
        "      print(\"Overflow\")\n",
        "    else:\n",
        "      self.queue[self.back] = elem\n",
        "      self.back = (self.back + 1) % len(self.queue)\n",
        "      self.size += 1\n",
        "\n",
        "  def dequeue(self):\n",
        "    if self.size == 0:\n",
        "      print(\"Underflow\")\n",
        "    else:\n",
        "      dequeued = self.queue[self.front]\n",
        "      self.queue[self.front] = None\n",
        "      self.front = (self.front + 1) % len(self.queue)\n",
        "      self.size -= 1\n",
        "      return dequeued\n",
        "\n",
        "  def peek(self):\n",
        "    if self.size == 0:\n",
        "      print(\"Underflow\")\n",
        "    else:\n",
        "      return self.queue[self.front]\n"
      ],
      "metadata": {
        "id": "Z3vkFLF6ahWG"
      },
      "execution_count": null,
      "outputs": []
    },
    {
      "cell_type": "code",
      "source": [
        "#checking balanced and imbalanced set of brakets\n",
        "def check_balance(stack, string):\n",
        "  new = Stack()\n",
        "  backup = Stack()\n",
        "  for i in range(len(string)):\n",
        "    if string[i] == '[' or string[i] == '(' or string[i] == '{':\n",
        "      new.push(string[i])\n",
        "    else:\n",
        "      while new.isEmpty()!=True:\n",
        "        a = new.peek()\n",
        "        if string[i] != a:\n",
        "          backup.push(new.pop())\n",
        "        elif string[i] == a:\n",
        "          new.pop()\n",
        "          new.push(string[i])\n",
        "          break\n",
        "    if backup.isEmpty()==True:\n",
        "      while backup.isEmpty()!=True:\n",
        "        new.push(backup.pop())\n",
        "  if new.isEmpty():\n",
        "    return \"Balanced\"\n",
        "  else:\n",
        "    return \"Imbalanced\"\n",
        "\n",
        "st = Stack()\n",
        "string = \"[{(})]\"\n",
        "print(check_balance(st, string))\n",
        "print(\"=====================================\")\n",
        "st = Stack()\n",
        "string = \"[{(})](\"\n",
        "print(check_balance(st, string))"
      ],
      "metadata": {
        "colab": {
          "base_uri": "https://localhost:8080/"
        },
        "id": "6CCFDtiPUOT-",
        "outputId": "650be0ab-094a-4c45-e957-68acbbbb91f6"
      },
      "execution_count": null,
      "outputs": [
        {
          "output_type": "stream",
          "name": "stdout",
          "text": [
            "Balanced\n",
            "=====================================\n",
            "Imbalanced\n"
          ]
        }
      ]
    },
    {
      "cell_type": "code",
      "source": [
        "#checking balanced set using count\n",
        "def check_balance(stack, string):\n",
        "  c = 0\n",
        "  d = 0\n",
        "  for i in range(len(string)):\n",
        "    if string[i] == '[' or string[i] == '(' or string[i] == '{':\n",
        "      c += 1\n",
        "    else:\n",
        "      d +=1\n",
        "  if c == d:\n",
        "    return \"Balanced\"\n",
        "  else:\n",
        "    return \"Imbalanced\"\n",
        "\n",
        "st = Stack()\n",
        "string = \"[{(})]\"\n",
        "print(check_balance(st, string))\n",
        "print(\"=====================================\")\n",
        "st = Stack()\n",
        "string = \"[{(})]()))\"\n",
        "print(check_balance(st, string))"
      ],
      "metadata": {
        "colab": {
          "base_uri": "https://localhost:8080/"
        },
        "id": "EDkdoBrIW9Ax",
        "outputId": "d1778b85-6142-459b-de90-a583d0b248f3"
      },
      "execution_count": null,
      "outputs": [
        {
          "output_type": "stream",
          "name": "stdout",
          "text": [
            "Balanced\n",
            "=====================================\n",
            "Imbalanced\n"
          ]
        }
      ]
    },
    {
      "cell_type": "code",
      "source": [
        "#Palindrome checker using stack\n",
        "def check(st):\n",
        "  reverse = Stack()\n",
        "  revser_copy = Stack()\n",
        "  temp = st\n",
        "  while temp.isEmpty() == False:\n",
        "    a = temp.pop()\n",
        "    b = a\n",
        "    reverse.push(a)\n",
        "    revser_copy.push(b)\n",
        "\n",
        "  flag = True\n",
        "  copy = Stack()\n",
        "  while revser_copy.isEmpty()==False:\n",
        "    copy.push(revser_copy.pop())\n",
        "\n",
        "  while copy.isEmpty()==False and reverse.isEmpty()==False:\n",
        "    if copy.peek() != reverse.peek():\n",
        "      flag = False\n",
        "    copy.pop()\n",
        "    reverse.pop()\n",
        "  print(flag)\n",
        "\n",
        "st = Stack()\n",
        "st.push(1)\n",
        "st.push(2)\n",
        "st.push(3)\n",
        "st.push(2)\n",
        "st.push(1)\n",
        "check(st)\n",
        "print(\"=====================\")\n",
        "st = Stack()\n",
        "st.push(1)\n",
        "st.push(2)\n",
        "st.push(3)\n",
        "st.push(3)\n",
        "st.push(1)\n",
        "check(st)"
      ],
      "metadata": {
        "colab": {
          "base_uri": "https://localhost:8080/"
        },
        "id": "wpiiaWVHhJlv",
        "outputId": "1a24fd95-b425-4821-8930-6ce20e4c5de5"
      },
      "execution_count": null,
      "outputs": [
        {
          "output_type": "stream",
          "name": "stdout",
          "text": [
            "True\n",
            "=====================\n",
            "False\n"
          ]
        }
      ]
    },
    {
      "cell_type": "code",
      "source": [
        "#mid spring 24 question (stack & queue)\n",
        "def id_gender_extractor(s):\n",
        "  if s != None:\n",
        "    return s[0],s[2:] #gender, id\n",
        "  else:\n",
        "    return None, None\n",
        "\n",
        "def dance_pair(st):\n",
        "  male = Queue()\n",
        "  female = Queue()\n",
        "  new = Stack()\n",
        "\n",
        "  while st.isEmpty()==False:\n",
        "    a = st.pop()\n",
        "    b = None\n",
        "    if st.peek()!=None:\n",
        "      b = st.pop()\n",
        "      val1 = id_gender_extractor(a)\n",
        "      val2 = id_gender_extractor(b)\n",
        "      if val1[0] == val2[0]:\n",
        "        if val1[0] == 'M':\n",
        "          male.enqueue(a)\n",
        "        else:\n",
        "          female.enqueue(a)\n",
        "        st.push(b)\n",
        "      elif val1[0]!=val2[0]:\n",
        "        new.push(a)\n",
        "        new.push(b)\n",
        "\n",
        "  while male.peek()!=None and female.peek()!=False:\n",
        "    a = male.dequeue()\n",
        "    b = female.dequeue()\n",
        "    if a!=None and b!=None:\n",
        "      new.push(a.elem)\n",
        "      new.push(b.elem)\n",
        "\n",
        "  res = Stack()\n",
        "  while new.isEmpty()==False:\n",
        "    res.push(new.pop())\n",
        "\n",
        "  while res.isEmpty()==False:\n",
        "    a = res.pop()\n",
        "    b = res.pop()\n",
        "    print(f\"{a[2:]} and {b[2:]} are paired together.\")\n",
        "\n",
        "\n",
        "st = Stack()\n",
        "st.push('F_18')\n",
        "st.push('F_9')\n",
        "st.push('M_7')\n",
        "st.push('M_1')\n",
        "st.push('M_19')\n",
        "st.push('M_3')\n",
        "st.push('F_5')\n",
        "st.push('F_4')\n",
        "st.push('F_20')\n",
        "st.push('M_10')\n",
        "dance_pair(st)"
      ],
      "metadata": {
        "colab": {
          "base_uri": "https://localhost:8080/"
        },
        "id": "hd9Cs9SfEw-u",
        "outputId": "7faf9875-8cfd-4a67-a276-52d624e0aa11"
      },
      "execution_count": null,
      "outputs": [
        {
          "output_type": "stream",
          "name": "stdout",
          "text": [
            "10 and 20 are paired together.\n",
            "5 and 3 are paired together.\n",
            "7 and 9 are paired together.\n",
            "19 and 4 are paired together.\n"
          ]
        }
      ]
    },
    {
      "cell_type": "markdown",
      "source": [
        "#Binary Tree"
      ],
      "metadata": {
        "id": "xajJZGy51ya-"
      }
    },
    {
      "cell_type": "code",
      "source": [
        "class TreeNode:\n",
        "    def __init__(self, val):\n",
        "        self.val = val\n",
        "        self.left = None\n",
        "        self.right = None\n",
        "\n",
        "\n",
        "#creating binary tree\n",
        "\n",
        "def binaryTreeConstruct(arr, i, n):\n",
        "    root = None\n",
        "    if i < n:\n",
        "        if (arr[i]!= None):\n",
        "            root = TreeNode(arr[i])\n",
        "            root.left = binaryTreeConstruct(arr, 2 * i, n)\n",
        "            root.right = binaryTreeConstruct(arr, 2 * i + 1, n)\n",
        "    return root\n",
        "\n",
        "#Preorder print\n",
        "def PreOrder(root):\n",
        "    if root != None:\n",
        "        print(root.val, end=\" \")\n",
        "        PreOrder(root.left)\n",
        "        PreOrder(root.right)\n",
        "    return root\n",
        "\n",
        "#Inoder print\n",
        "def InOrder(root):\n",
        "    if root != None:\n",
        "        InOrder(root.left)\n",
        "        print(root.val, end=\" \")\n",
        "        InOrder(root.right)\n",
        "    return root\n",
        "\n",
        "#PostOderPrint\n",
        "def PostOrder(root):\n",
        "    if root != None:\n",
        "        PostOrder(root.left)\n",
        "        PostOrder(root.right)\n",
        "        print(root.val, end=\" \")\n",
        "    return root\n",
        "\n",
        "\n",
        "def sumEven(root):\n",
        "    sum = 0\n",
        "    if root != None:\n",
        "        if root.val%2 == 0:\n",
        "            sum = root.val\n",
        "            return sumEven(root.left) + sumEven(root.right) + sum\n",
        "        return sum\n",
        "    return sum\n",
        "\n",
        "\n",
        "def swap_child(root, Start_level, end_level):\n",
        "    if Start_level == end_level:\n",
        "        return\n",
        "    else:\n",
        "        swap_child(root.left, Start_level+1, end_level)\n",
        "        a = root.left\n",
        "        b = root.right\n",
        "        root.left = b\n",
        "        root.right = a\n",
        "    return root\n",
        "\n",
        "def getHeight(root):\n",
        "    if root is None:\n",
        "        return -1\n",
        "    return 1 + max(getHeight(root.left), getHeight(root.right))\n",
        "\n",
        "\n",
        "\n",
        "#constructing BT and printing in 3 order:\n",
        "arr = [None,\"A\",\"B\",\"C\",\"D\",\"E\",\"F\",None,\"G\",\"H\",\"I\",None]\n",
        "r = binaryTreeConstruct(arr, 1, len(arr))\n",
        "print(\"PreOrder Tree: \")\n",
        "print(getHeight(r))\n",
        "#print(isBalanced(r, \"A\"))\n",
        "PreOrder(r, )\n",
        "print()\n",
        "print(\"=======================\")\n",
        "print(\"InOrder Tree: \")\n",
        "InOrder(r)\n",
        "print()\n",
        "print(\"=======================\")\n",
        "print(\"PostOrder Tree: \")\n",
        "PostOrder(r)\n",
        "print()\n",
        "print(\"------------------------\")\n",
        "\n",
        "#Swapping child till desired index:\n",
        "print(\"Before swapping: \")\n",
        "arr1 = [None,\"A\",\"B\",\"C\",\"D\",\"E\",None,\"F\",\"G\",\"H\",\"I\",None,None,None,None,\"J\"]\n",
        "r = binaryTreeConstruct(arr1, 1, len(arr1))\n",
        "print(PreOrder(r))\n",
        "print()\n",
        "print(\"================================\")\n",
        "print(\"After Swapping: \")\n",
        "a = swap_child(r, 0, 2)\n",
        "print(PreOrder(a))\n",
        "print(\"================================\")\n",
        "\n",
        "\n",
        "#Printing the sum of the even numbers in a BT:\n",
        "arr1 = [None,10,8,2,3,5,7]\n",
        "tree1 = binaryTreeConstruct(arr1, 1, len(arr1))\n",
        "print(\"InOrder: \")\n",
        "PreOrder(tree1)\n",
        "print()\n",
        "print(\"========================\")\n",
        "a = sumEven(tree1)\n",
        "print(f\"The even sum is: {a}\")  #Ans: 20\n",
        "\n",
        "\n",
        "\n",
        "\n"
      ],
      "metadata": {
        "colab": {
          "base_uri": "https://localhost:8080/"
        },
        "id": "yEHL4OMw1tpE",
        "outputId": "90c488af-37e7-461b-ca86-664ed392ddfb"
      },
      "execution_count": 1,
      "outputs": [
        {
          "output_type": "stream",
          "name": "stdout",
          "text": [
            "PreOrder Tree: \n",
            "3\n",
            "A B D G H E I C F \n",
            "=======================\n",
            "InOrder Tree: \n",
            "G D H B I E A F C \n",
            "=======================\n",
            "PostOrder Tree: \n",
            "G H D I E B F C A \n",
            "------------------------\n",
            "Before swapping: \n",
            "A B D G H E I C F J <__main__.TreeNode object at 0x7f4768cf8460>\n",
            "\n",
            "================================\n",
            "After Swapping: \n",
            "A C F J B E I D G H <__main__.TreeNode object at 0x7f4768cf8460>\n",
            "================================\n",
            "InOrder: \n",
            "10 8 3 5 2 7 \n",
            "========================\n",
            "The even sum is: 20\n"
          ]
        }
      ]
    }
  ]
}