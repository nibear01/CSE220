{
  "nbformat": 4,
  "nbformat_minor": 0,
  "metadata": {
    "colab": {
      "provenance": []
    },
    "kernelspec": {
      "name": "python3",
      "display_name": "Python 3"
    },
    "language_info": {
      "name": "python"
    }
  },
  "cells": [
    {
      "cell_type": "code",
      "execution_count": null,
      "metadata": {
        "id": "Pp1R95Pe7ID2",
        "colab": {
          "base_uri": "https://localhost:8080/"
        },
        "outputId": "d487ce47-d066-4484-9a0a-a73403d4d0c2"
      },
      "outputs": [
        {
          "output_type": "stream",
          "name": "stdout",
          "text": [
            "Requirement already satisfied: fhm-unittest in /usr/local/lib/python3.10/dist-packages (1.0.1)\n",
            "Requirement already satisfied: fuzzywuzzy in /usr/local/lib/python3.10/dist-packages (0.18.0)\n"
          ]
        },
        {
          "output_type": "stream",
          "name": "stderr",
          "text": [
            "/usr/local/lib/python3.10/dist-packages/fuzzywuzzy/fuzz.py:11: UserWarning: Using slow pure-python SequenceMatcher. Install python-Levenshtein to remove this warning\n",
            "  warnings.warn('Using slow pure-python SequenceMatcher. Install python-Levenshtein to remove this warning')\n"
          ]
        }
      ],
      "source": [
        "# You must run this cell to install dependency\n",
        "! pip3 install fhm-unittest\n",
        "! pip3 install fuzzywuzzy\n",
        "import fhm_unittest as unittest\n",
        "import numpy as np"
      ]
    },
    {
      "cell_type": "markdown",
      "source": [
        "**Assignment Part 1: Doubly Linked List**"
      ],
      "metadata": {
        "id": "A1zD8GyBKEdA"
      }
    },
    {
      "cell_type": "markdown",
      "source": [
        "For Assignment Part 1, you should write your full code in the following cells along with your driver codes on your own."
      ],
      "metadata": {
        "id": "z4q4a-vSNoII"
      }
    },
    {
      "cell_type": "code",
      "source": [
        "class Patient:\n",
        "  def __init__(self, id, name, age, bloodgroup):\n",
        "    self.id = id\n",
        "    self.name = name\n",
        "    self.age = age\n",
        "    self.bloodgroup = bloodgroup\n",
        "    self.next = None\n",
        "    self.prev = None\n",
        "\n",
        "class WRM:\n",
        "  def __init__(self):\n",
        "    self.head=Patient(None,None,None,None)\n",
        "    self.head.next=self.head\n",
        "    self.head.prev=self.head\n",
        "\n",
        "  def registerPatient(self,id, name, age, bloodgroup):\n",
        "    print(\"====================================================\")\n",
        "    new_patient = Patient(id, name, age, bloodgroup)\n",
        "    last_patient = self.head.prev\n",
        "    last_patient.next = new_patient\n",
        "    new_patient.prev = last_patient\n",
        "    new_patient.next = self.head\n",
        "    self.head.prev = new_patient\n",
        "    return f\"Successfully add new patient {name}! \"\n",
        "\n",
        "  def servePatient(self):\n",
        "    print(\"====================================================\")\n",
        "    if self.head.next == self.head:\n",
        "      return \"No patients to serve\"\n",
        "    first_patient = self.head.next\n",
        "    self.head.next = first_patient.next\n",
        "    first_patient.next.prev = self.head\n",
        "    return f\"Serving patient: {first_patient.name}\"\n",
        "\n",
        "  def showAllPatient(self):\n",
        "    print(\"====================================================\")\n",
        "    if self.head.next == self.head:\n",
        "      print(\"No patients in the waiting room.\")\n",
        "      return\n",
        "    temp = self.head.next\n",
        "    while temp != self.head:\n",
        "      print(temp.name)\n",
        "      temp = temp.next\n",
        "\n",
        "  def canDoctorGoHome(self):\n",
        "    print(\"====================================================\")\n",
        "    return self.head.next == self.head\n",
        "\n",
        "  def cancelAll(self):\n",
        "    print(\"====================================================\")\n",
        "    self.head.next = self.head\n",
        "    self.head.prev = self.head\n",
        "    return \"Success\"\n",
        "\n",
        "  def ReverseTheLine(self):\n",
        "    print(\"====================================================\")\n",
        "    if self.head.next == self.head or self.head.next.next == self.head:\n",
        "      return \"Success\"\n",
        "    current = self.head\n",
        "    while True:\n",
        "      current.next, current.prev = current.prev, current.next\n",
        "      current = current.prev\n",
        "      if current == self.head:\n",
        "        break\n",
        "    return \"Success\"\n"
      ],
      "metadata": {
        "id": "dNx7zTJ1OZNv"
      },
      "execution_count": null,
      "outputs": []
    },
    {
      "cell_type": "code",
      "source": [
        "#Write a Tester Code in this cell\n",
        "print(\"**Welcome to Waiting Room Management System**\")\n",
        "wrm = WRM()\n",
        "while True:\n",
        "  print(\"1. Add Patient\")\n",
        "  print(\"2. Serve Patient\")\n",
        "  print(\"3. Show All Patients\")\n",
        "  print(\"4. Can Doctor go Home?\")\n",
        "  print(\"5. Cancel All Appointments\")\n",
        "  print(\"6. Reverse The Line\")\n",
        "  print(\"7. Exit\")\n",
        "\n",
        "  choice = int(input(\"Enter your choice: \"))\n",
        "\n",
        "  if choice == 1:\n",
        "    id = int(input(\"Enter Patient ID: \"))\n",
        "    name = input(\"Enter Patient Name: \")\n",
        "    age = int(input(\"Enter Patient Age: \"))\n",
        "    bloodgroup = input(\"Enter Patient Blood Group: \")\n",
        "    print(wrm.registerPatient(id, name, age, bloodgroup))\n",
        "  elif choice == 2:\n",
        "    print(wrm.servePatient())\n",
        "  elif choice == 3:\n",
        "    print(wrm.showAllPatient())\n",
        "  elif choice == 4:\n",
        "    if wrm.canDoctorGoHome():\n",
        "      print(\"Yes\")\n",
        "    else:\n",
        "      print(\"No\")\n",
        "  elif choice == 5:\n",
        "    print(wrm.cancelAll())\n",
        "  elif choice == 6:\n",
        "    print(wrm.ReverseTheLine())\n",
        "  elif choice == 7:\n",
        "    break\n",
        "  else:\n",
        "    print(\"Invalid choice. Please try again.\")"
      ],
      "metadata": {
        "id": "jKhbn1LAPfjr",
        "colab": {
          "base_uri": "https://localhost:8080/"
        },
        "outputId": "b64c52b5-e377-4a97-d2f2-b1ecac984418"
      },
      "execution_count": null,
      "outputs": [
        {
          "name": "stdout",
          "output_type": "stream",
          "text": [
            "**Welcome to Waiting Room Management System**\n",
            "1. Add Patient\n",
            "2. Serve Patient\n",
            "3. Show All Patients\n",
            "4. Can Doctor go Home?\n",
            "5. Cancel All Appointments\n",
            "6. Reverse The Line\n",
            "7. Exit\n",
            "Enter your choice: 1\n",
            "Enter Patient ID: 1\n",
            "Enter Patient Name: A\n",
            "Enter Patient Age: 1\n",
            "Enter Patient Blood Group: A\n",
            "====================================================\n",
            "Successfully add new patient A! \n",
            "1. Add Patient\n",
            "2. Serve Patient\n",
            "3. Show All Patients\n",
            "4. Can Doctor go Home?\n",
            "5. Cancel All Appointments\n",
            "6. Reverse The Line\n",
            "7. Exit\n",
            "Enter your choice: 1\n",
            "Enter Patient ID: 2\n",
            "Enter Patient Name: B\n",
            "Enter Patient Age: 2\n",
            "Enter Patient Blood Group: A\n",
            "====================================================\n",
            "Successfully add new patient B! \n",
            "1. Add Patient\n",
            "2. Serve Patient\n",
            "3. Show All Patients\n",
            "4. Can Doctor go Home?\n",
            "5. Cancel All Appointments\n",
            "6. Reverse The Line\n",
            "7. Exit\n",
            "Enter your choice: 3\n",
            "====================================================\n",
            "A\n",
            "B\n",
            "None\n",
            "1. Add Patient\n",
            "2. Serve Patient\n",
            "3. Show All Patients\n",
            "4. Can Doctor go Home?\n",
            "5. Cancel All Appointments\n",
            "6. Reverse The Line\n",
            "7. Exit\n",
            "Enter your choice: 4\n",
            "====================================================\n",
            "No\n",
            "1. Add Patient\n",
            "2. Serve Patient\n",
            "3. Show All Patients\n",
            "4. Can Doctor go Home?\n",
            "5. Cancel All Appointments\n",
            "6. Reverse The Line\n",
            "7. Exit\n",
            "Enter your choice: 5\n",
            "====================================================\n",
            "Success\n",
            "1. Add Patient\n",
            "2. Serve Patient\n",
            "3. Show All Patients\n",
            "4. Can Doctor go Home?\n",
            "5. Cancel All Appointments\n",
            "6. Reverse The Line\n",
            "7. Exit\n",
            "Enter your choice: 4\n",
            "====================================================\n",
            "Yes\n",
            "1. Add Patient\n",
            "2. Serve Patient\n",
            "3. Show All Patients\n",
            "4. Can Doctor go Home?\n",
            "5. Cancel All Appointments\n",
            "6. Reverse The Line\n",
            "7. Exit\n",
            "Enter your choice: 3\n",
            "====================================================\n",
            "No patients in the waiting room.\n",
            "None\n",
            "1. Add Patient\n",
            "2. Serve Patient\n",
            "3. Show All Patients\n",
            "4. Can Doctor go Home?\n",
            "5. Cancel All Appointments\n",
            "6. Reverse The Line\n",
            "7. Exit\n",
            "Enter your choice: 1\n",
            "Enter Patient ID: 3\n",
            "Enter Patient Name: C\n",
            "Enter Patient Age: 1\n",
            "Enter Patient Blood Group: A\n",
            "====================================================\n",
            "Successfully add new patient C! \n",
            "1. Add Patient\n",
            "2. Serve Patient\n",
            "3. Show All Patients\n",
            "4. Can Doctor go Home?\n",
            "5. Cancel All Appointments\n",
            "6. Reverse The Line\n",
            "7. Exit\n",
            "Enter your choice: 1\n",
            "Enter Patient ID: 4\n",
            "Enter Patient Name: D\n",
            "Enter Patient Age: 4\n",
            "Enter Patient Blood Group: A\n",
            "====================================================\n",
            "Successfully add new patient D! \n",
            "1. Add Patient\n",
            "2. Serve Patient\n",
            "3. Show All Patients\n",
            "4. Can Doctor go Home?\n",
            "5. Cancel All Appointments\n",
            "6. Reverse The Line\n",
            "7. Exit\n",
            "Enter your choice: 3\n",
            "====================================================\n",
            "C\n",
            "D\n",
            "None\n",
            "1. Add Patient\n",
            "2. Serve Patient\n",
            "3. Show All Patients\n",
            "4. Can Doctor go Home?\n",
            "5. Cancel All Appointments\n",
            "6. Reverse The Line\n",
            "7. Exit\n",
            "Enter your choice: 6\n",
            "====================================================\n",
            "Success\n",
            "1. Add Patient\n",
            "2. Serve Patient\n",
            "3. Show All Patients\n",
            "4. Can Doctor go Home?\n",
            "5. Cancel All Appointments\n",
            "6. Reverse The Line\n",
            "7. Exit\n",
            "Enter your choice: 3\n",
            "====================================================\n",
            "D\n",
            "C\n",
            "None\n",
            "1. Add Patient\n",
            "2. Serve Patient\n",
            "3. Show All Patients\n",
            "4. Can Doctor go Home?\n",
            "5. Cancel All Appointments\n",
            "6. Reverse The Line\n",
            "7. Exit\n",
            "Enter your choice: 8\n",
            "Invalid choice. Please try again.\n",
            "1. Add Patient\n",
            "2. Serve Patient\n",
            "3. Show All Patients\n",
            "4. Can Doctor go Home?\n",
            "5. Cancel All Appointments\n",
            "6. Reverse The Line\n",
            "7. Exit\n",
            "Enter your choice: 1\n",
            "Enter Patient ID: 6\n",
            "Enter Patient Name: F\n",
            "Enter Patient Age: 1\n",
            "Enter Patient Blood Group: A\n",
            "====================================================\n",
            "Successfully add new patient F! \n",
            "1. Add Patient\n",
            "2. Serve Patient\n",
            "3. Show All Patients\n",
            "4. Can Doctor go Home?\n",
            "5. Cancel All Appointments\n",
            "6. Reverse The Line\n",
            "7. Exit\n",
            "Enter your choice: 3\n",
            "====================================================\n",
            "D\n",
            "C\n",
            "F\n",
            "None\n",
            "1. Add Patient\n",
            "2. Serve Patient\n",
            "3. Show All Patients\n",
            "4. Can Doctor go Home?\n",
            "5. Cancel All Appointments\n",
            "6. Reverse The Line\n",
            "7. Exit\n",
            "Enter your choice: 6\n",
            "====================================================\n",
            "Success\n",
            "1. Add Patient\n",
            "2. Serve Patient\n",
            "3. Show All Patients\n",
            "4. Can Doctor go Home?\n",
            "5. Cancel All Appointments\n",
            "6. Reverse The Line\n",
            "7. Exit\n",
            "Enter your choice: 3\n",
            "====================================================\n",
            "F\n",
            "C\n",
            "D\n",
            "None\n",
            "1. Add Patient\n",
            "2. Serve Patient\n",
            "3. Show All Patients\n",
            "4. Can Doctor go Home?\n",
            "5. Cancel All Appointments\n",
            "6. Reverse The Line\n",
            "7. Exit\n",
            "Enter your choice: 7\n"
          ]
        }
      ]
    },
    {
      "cell_type": "markdown",
      "source": [
        "**Assignment Part 2: Stack**\n",
        "\n",
        "Linked List based Stack is implemented in the following cell."
      ],
      "metadata": {
        "id": "CJWd_j6YEnPn"
      }
    },
    {
      "cell_type": "code",
      "source": [
        "class Node:\n",
        "  def __init__(self,elem=None,next=None):\n",
        "    self.elem = elem\n",
        "    self.next = next\n",
        "\n",
        "class Stack:\n",
        "  def __init__(self):\n",
        "    self.__top = None\n",
        "\n",
        "  def push(self,elem):\n",
        "    nn = Node(elem,self.__top)\n",
        "    self.__top = nn\n",
        "\n",
        "  def pop(self):\n",
        "    if self.__top == None:\n",
        "      #print('Stack Underflow')\n",
        "      return None\n",
        "    e = self.__top\n",
        "    self.__top = self.__top.next\n",
        "    return e.elem\n",
        "\n",
        "  def peek(self):\n",
        "    if self.__top == None:\n",
        "      #print('Stack Underflow')\n",
        "      return None\n",
        "    return self.__top.elem\n",
        "\n",
        "  def isEmpty(self):\n",
        "    return self.__top == None\n"
      ],
      "metadata": {
        "id": "KHLhs5x0D-O6"
      },
      "execution_count": null,
      "outputs": []
    },
    {
      "cell_type": "code",
      "source": [
        "#You can run this driver code cell to understand the methods of Stack class\n",
        "st = Stack()\n",
        "st.push(4)\n",
        "st.push(3)\n",
        "st.push(5)\n",
        "st.push(1)\n",
        "st.push(9)\n",
        "\n",
        "print('Peeked Element: ',st.peek())\n",
        "print('Popped Element: ',st.pop())\n",
        "print('Popped Element: ',st.pop())\n",
        "print('Popped Element: ',st.pop())\n",
        "print('Peeked Element: ',st.peek())\n",
        "print('Popped Element: ',st.pop())\n",
        "print('Popped Element: ',st.pop())\n",
        "print('Peeked Element: ',st.peek())\n",
        "print('Popped Element: ',st.pop())\n",
        "print(st.isEmpty())"
      ],
      "metadata": {
        "id": "4XkuMA7gEjE7",
        "colab": {
          "base_uri": "https://localhost:8080/"
        },
        "outputId": "88057876-1ce2-4b9d-90fd-7145c6f9d5bc"
      },
      "execution_count": null,
      "outputs": [
        {
          "output_type": "stream",
          "name": "stdout",
          "text": [
            "Peeked Element:  9\n",
            "Popped Element:  9\n",
            "Popped Element:  1\n",
            "Popped Element:  5\n",
            "Peeked Element:  3\n",
            "Popped Element:  3\n",
            "Popped Element:  4\n",
            "Peeked Element:  None\n",
            "Popped Element:  None\n",
            "True\n"
          ]
        }
      ]
    },
    {
      "cell_type": "markdown",
      "source": [
        "You can print your stack using this code segment"
      ],
      "metadata": {
        "id": "xrfONLccG9Gi"
      }
    },
    {
      "cell_type": "code",
      "source": [
        "def print_stack(st):\n",
        "  if st.isEmpty():\n",
        "    return\n",
        "  p = st.pop()\n",
        "  print('|',p,end=' ')\n",
        "  if p<10:\n",
        "    print(' |')\n",
        "  else:\n",
        "    print('|')\n",
        "  #print('------')\n",
        "  print_stack(st)\n",
        "  st.push(p)\n",
        "\n",
        "st = Stack()\n",
        "st.push(4)\n",
        "st.push(3)\n",
        "st.push(5)\n",
        "st.push(1)\n",
        "st.push(9)\n",
        "print_stack(st)\n",
        "print('------')"
      ],
      "metadata": {
        "id": "S-EembO_GsWA",
        "colab": {
          "base_uri": "https://localhost:8080/"
        },
        "outputId": "d86827ce-38d7-43a6-f7d3-aa4bcedb122f"
      },
      "execution_count": null,
      "outputs": [
        {
          "output_type": "stream",
          "name": "stdout",
          "text": [
            "| 9  |\n",
            "| 1  |\n",
            "| 5  |\n",
            "| 3  |\n",
            "| 4  |\n",
            "------\n"
          ]
        }
      ]
    },
    {
      "cell_type": "markdown",
      "source": [
        "Task 1: Diamond Count"
      ],
      "metadata": {
        "id": "iNMnfqqpIga2"
      }
    },
    {
      "cell_type": "code",
      "source": [
        "def diamond_count(stack,string):\n",
        "  c = 0\n",
        "  for i in range(len(string)):\n",
        "    if string[i] == \"<\":\n",
        "      stack.push(string[i])\n",
        "    elif string[i] == \">\":\n",
        "      if stack.peek():\n",
        "        stack.pop()\n",
        "        c+=1\n",
        "  return c\n",
        "\n",
        "print('Test 01')\n",
        "stack = Stack()\n",
        "string = '<..><.<..>> '\n",
        "returned_value = diamond_count(stack,string)\n",
        "print(f'Number of Diamonds: {returned_value}') #This should print 3\n",
        "unittest.output_test(returned_value, 3)\n",
        "print('-----------------------------------------')\n",
        "\n",
        "\n",
        "print('Test 02')\n",
        "stack = Stack()\n",
        "string = '<<<..<......<<<<....>'\n",
        "returned_value = diamond_count(stack,string)\n",
        "print(f'Number of Diamonds: {returned_value}') #This should print 1\n",
        "unittest.output_test(returned_value, 1)\n",
        "print('-----------------------------------------')\n",
        "\n",
        "\n",
        "print('Test 03')\n",
        "stack = Stack()\n",
        "string = '>>><...<<..>>...>...>>>'\n",
        "returned_value = diamond_count(stack,string)\n",
        "print(f'Number of Diamonds: {returned_value}') #This should print 3\n",
        "unittest.output_test(returned_value, 3)\n",
        "print('-----------------------------------------')"
      ],
      "metadata": {
        "id": "GnX70OIvG_gZ",
        "colab": {
          "base_uri": "https://localhost:8080/"
        },
        "outputId": "71abda41-1508-4587-e4d7-e85d37cc550e"
      },
      "execution_count": null,
      "outputs": [
        {
          "output_type": "stream",
          "name": "stdout",
          "text": [
            "Test 01\n",
            "Number of Diamonds: 3\n",
            "Accepted\n",
            "-----------------------------------------\n",
            "Test 02\n",
            "Number of Diamonds: 1\n",
            "Accepted\n",
            "-----------------------------------------\n",
            "Test 03\n",
            "Number of Diamonds: 3\n",
            "Accepted\n",
            "-----------------------------------------\n"
          ]
        }
      ]
    },
    {
      "cell_type": "markdown",
      "source": [
        "Task 2: Tower of Blocks"
      ],
      "metadata": {
        "id": "PhCF3SZ6IX5g"
      }
    },
    {
      "cell_type": "code",
      "source": [
        "def remove_block(stack, n):\n",
        "  new = Stack()\n",
        "  i = 1\n",
        "  while i<=n:\n",
        "    if i != n:\n",
        "      new.push(stack.pop())\n",
        "    else:\n",
        "      stack.pop()\n",
        "    i +=1\n",
        "  while new.isEmpty()!=True:\n",
        "    stack.push(new.pop())\n",
        "  return stack\n",
        "\n",
        "print('Test 01')\n",
        "st = Stack()\n",
        "st.push(4)\n",
        "st.push(19)\n",
        "st.push(23)\n",
        "st.push(17)\n",
        "st.push(5)\n",
        "print('Stack:')\n",
        "print_stack(st)\n",
        "print('------')\n",
        "remove_block(st,2)\n",
        "print('After Removal')\n",
        "print_stack(st)\n",
        "print('------')\n",
        "\n",
        "print()\n",
        "print('======================================')\n",
        "print()\n",
        "\n",
        "print('Test 02')\n",
        "st = Stack()\n",
        "st.push(73)\n",
        "st.push(85)\n",
        "st.push(15)\n",
        "st.push(41)\n",
        "print('Stack:')\n",
        "print_stack(st)\n",
        "print('------')\n",
        "remove_block(st,3)\n",
        "print('After Removal')\n",
        "print_stack(st)\n",
        "print('------')\n",
        "\n",
        "print()\n",
        "print('======================================')\n",
        "print()"
      ],
      "metadata": {
        "id": "W3N4q7YAHExr",
        "colab": {
          "base_uri": "https://localhost:8080/"
        },
        "outputId": "8f2dae83-ee06-4aa8-e872-442f9d73bc4d"
      },
      "execution_count": null,
      "outputs": [
        {
          "output_type": "stream",
          "name": "stdout",
          "text": [
            "Test 01\n",
            "Stack:\n",
            "| 5  |\n",
            "| 17 |\n",
            "| 23 |\n",
            "| 19 |\n",
            "| 4  |\n",
            "------\n",
            "After Removal\n",
            "| 5  |\n",
            "| 23 |\n",
            "| 19 |\n",
            "| 4  |\n",
            "------\n",
            "\n",
            "======================================\n",
            "\n",
            "Test 02\n",
            "Stack:\n",
            "| 41 |\n",
            "| 15 |\n",
            "| 85 |\n",
            "| 73 |\n",
            "------\n",
            "After Removal\n",
            "| 41 |\n",
            "| 15 |\n",
            "| 73 |\n",
            "------\n",
            "\n",
            "======================================\n",
            "\n"
          ]
        }
      ]
    },
    {
      "cell_type": "markdown",
      "source": [
        "Task 3: Stack Reverse"
      ],
      "metadata": {
        "id": "jcngRuqUWOfl"
      }
    },
    {
      "cell_type": "code",
      "source": [
        "def conditional_reverse(stack):\n",
        "  new = Stack()\n",
        "  while stack.isEmpty()!=True:\n",
        "    if new.peek() == stack.peek():\n",
        "      stack.pop()\n",
        "    else:\n",
        "      new.push(stack.pop())\n",
        "  return new\n",
        "\n",
        "print('Test 01')\n",
        "st=Stack()\n",
        "st.push(10)\n",
        "st.push(10)\n",
        "st.push(20)\n",
        "st.push(20)\n",
        "st.push(30)\n",
        "st.push(10)\n",
        "st.push(50)\n",
        "print('Stack:')\n",
        "print_stack(st)\n",
        "print('------')\n",
        "reversed_stack=conditional_reverse(st)\n",
        "print('Conditional Reversed Stack:')\n",
        "print_stack(reversed_stack) # This stack contains 50, 10, 30, 20, 10 in this order whereas top element should be 10\n",
        "print('------')"
      ],
      "metadata": {
        "id": "gLSgfDKPWPnP",
        "colab": {
          "base_uri": "https://localhost:8080/"
        },
        "outputId": "a5b62168-f70c-4c9d-b560-e4132689cb45"
      },
      "execution_count": null,
      "outputs": [
        {
          "output_type": "stream",
          "name": "stdout",
          "text": [
            "Test 01\n",
            "Stack:\n",
            "| 50 |\n",
            "| 10 |\n",
            "| 30 |\n",
            "| 20 |\n",
            "| 20 |\n",
            "| 10 |\n",
            "| 10 |\n",
            "------\n",
            "Conditional Reversed Stack:\n",
            "| 10 |\n",
            "| 20 |\n",
            "| 30 |\n",
            "| 10 |\n",
            "| 50 |\n",
            "------\n"
          ]
        }
      ]
    }
  ]
}